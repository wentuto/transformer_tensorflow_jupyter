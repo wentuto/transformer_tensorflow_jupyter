{
 "cells": [
  {
   "cell_type": "code",
   "execution_count": 1,
   "id": "2f50fa7a-e2ef-4a01-9883-b6c8819abcf3",
   "metadata": {},
   "outputs": [],
   "source": [
    "import os\n",
    "import time\n",
    "import numpy as np\n",
    "import matplotlib as mpl\n",
    "import matplotlib.pyplot as plt\n",
    "import os\n",
    "os.environ['TF_CPP_MIN_LOG_LEVEL'] = '2' #Logs all messages except INFO and WARNING.\n",
    "import logging\n",
    "logging.basicConfig(level=\"ERROR\") #set log level to error to avoid nonnecessary message\n",
    "np.set_printoptions(suppress=True)\n",
    "import tensorflow as tf\n"
   ]
  },
  {
   "cell_type": "code",
   "execution_count": 2,
   "id": "df0736fe-c79e-41f7-9798-16d06c8fe3d2",
   "metadata": {},
   "outputs": [],
   "source": [
    "import tensorflow_datasets as tfds\n",
    "\n",
    "\n",
    "import tensorflow_text\n",
    "from pprint import pprint\n",
    "from IPython.display import clear_output\n"
   ]
  },
  {
   "cell_type": "code",
   "execution_count": 3,
   "id": "e519faa8-9469-4d48-bfab-bcb80e34f6c5",
   "metadata": {},
   "outputs": [
    {
     "name": "stdout",
     "output_type": "stream",
     "text": [
      "PYTHON: 3.8.10 (default, Nov 14 2022, 12:59:47) \n",
      "[GCC 9.4.0]\n",
      "TF VERSION: 2.13.1\n",
      "TensorFlow 'IS' using the GPU\n",
      "Num GPUs Available:  1\n",
      "CUDA Version: 11.8\n",
      "cuDNN Version: 8\n"
     ]
    }
   ],
   "source": [
    "import sys\n",
    "\n",
    "print('PYTHON:',sys.version)\n",
    "print(\"TF VERSION:\",tf.__version__)\n",
    "if tf.config.list_physical_devices('GPU'):\n",
    "  print(\"TensorFlow 'IS' using the GPU\")\n",
    "else:\n",
    "  print(\"TensorFlow 'IS NOT' using the GPU\")\n",
    "print(\"Num GPUs Available: \", len(tf.config.list_physical_devices('GPU')))\n",
    "from tensorflow.python.platform import build_info as tf_build_info\n",
    "print(\"CUDA Version:\", tf_build_info.build_info['cuda_version'])\n",
    "print(\"cuDNN Version:\", tf_build_info.build_info['cudnn_version'])"
   ]
  },
  {
   "cell_type": "code",
   "execution_count": 4,
   "id": "b529a5af-7669-4846-990b-f02789ca4cdc",
   "metadata": {},
   "outputs": [
    {
     "data": {
      "text/plain": [
       "OrderedDict([('cpu_compiler', '/usr/lib/llvm-16/bin/clang'),\n",
       "             ('cuda_compute_capabilities',\n",
       "              ['sm_35', 'sm_50', 'sm_60', 'sm_70', 'sm_75', 'compute_80']),\n",
       "             ('cuda_version', '11.8'),\n",
       "             ('cudnn_version', '8'),\n",
       "             ('is_cuda_build', True),\n",
       "             ('is_rocm_build', False),\n",
       "             ('is_tensorrt_build', True)])"
      ]
     },
     "execution_count": 4,
     "metadata": {},
     "output_type": "execute_result"
    }
   ],
   "source": [
    "tf_build_info.build_info"
   ]
  },
  {
   "cell_type": "code",
   "execution_count": 5,
   "id": "8963749a-e026-4648-a65a-5e8bc1305690",
   "metadata": {},
   "outputs": [],
   "source": [
    "output_dir = \"nmt\"\n",
    "en_vocab_file = os.path.join(output_dir, \"en_vocab\")\n",
    "zh_vocab_file = os.path.join(output_dir, \"zh_vocab\")\n",
    "checkpoint_dir = os.path.join(output_dir, \"checkpoints\")\n",
    "log_dir = os.path.join(output_dir, 'logs')\n",
    "download_dir = \"tensorflow-datasets/downloads\"\n",
    "\n",
    "if not os.path.exists(output_dir):\n",
    "  os.makedirs(output_dir)"
   ]
  },
  {
   "cell_type": "code",
   "execution_count": 6,
   "id": "fbf7d8a9-3745-4744-8ff0-4e6cc53aab61",
   "metadata": {},
   "outputs": [],
   "source": [
    "config = tfds.translate.wmt.WmtConfig(\n",
    "    version=tfds.core.Version('0.0.7', experiments={tfds.core.Experiment.DUMMY: False}),\n",
    "    language_pair=(\"zh\", \"en\"),\n",
    "    subsets={\n",
    "        tfds.Split.TRAIN: [\"newscommentary_v14\"]\n",
    "    }\n",
    ")\n",
    "builder = tfds.builder(\"wmt_translate\", config=config)\n",
    "builder.download_and_prepare(download_dir=download_dir)\n",
    "#clear_output()"
   ]
  },
  {
   "cell_type": "code",
   "execution_count": 7,
   "id": "9448cfd3-9a2e-42f6-8d2e-bc70631432d3",
   "metadata": {},
   "outputs": [
    {
     "name": "stdout",
     "output_type": "stream",
     "text": [
      "<_PrefetchDataset element_spec={'en': TensorSpec(shape=(), dtype=tf.string, name=None), 'zh': TensorSpec(shape=(), dtype=tf.string, name=None)}>\n"
     ]
    }
   ],
   "source": [
    "train_examples, val_examples, test_examples = builder.as_dataset(split=['train[:80%]','train[80%:90%]', 'train[90%:]'])\n",
    "print(train_examples)"
   ]
  },
  {
   "cell_type": "code",
   "execution_count": 8,
   "id": "b11241bc-1fbf-45b6-a3ad-1b90e84d0033",
   "metadata": {},
   "outputs": [
    {
     "name": "stdout",
     "output_type": "stream",
     "text": [
      "这种恐惧是真实而内在的。 忽视它的政治家们前途堪忧。\n",
      "The fear is real and visceral, and politicians ignore it at their peril.\n",
      "事实上，德国政治局势需要的不过是一个符合美国所谓“自由”定义的真正的自由党派，也就是个人自由事业的倡导者。\n",
      "In fact, the German political landscape needs nothing more than a truly liberal party, in the US sense of the word “liberal” – a champion of the cause of individual freedom.\n",
      "必须付出巨大的努力和基础设施投资才能完成向可再生能源的过渡。\n",
      "Shifting to renewable-energy sources will require enormous effort and major infrastructure investment.\n",
      "在这方面，关键在于认识到“城市村落”和农村村落之间的根本区别。\n",
      "In this sense, it is critical to recognize the fundamental difference between “urban villages” and their rural counterparts.\n",
      "法国担任轮值主席国期间尼古拉·萨科奇统一的欧洲声音可能让人耳目一新，但这种声音却只持续了短短六个月，而且付出了让其他欧洲国家在面对“高卢人的骄傲”时民族主义情感进一步被激发的代价。\n",
      "A strong European voice, such as Nicolas Sarkozy’s during the French presidency of the EU, may make a difference, but only for six months, and at the cost of reinforcing other European countries’ nationalist feelings in reaction to the expression of “Gallic pride.”\n"
     ]
    }
   ],
   "source": [
    "sample_examples = []\n",
    "num_samples = 5\n",
    "c = 1\n",
    "for item in train_examples.take(num_samples).as_numpy_iterator():\n",
    "    print(item.get('en').decode())\n",
    "    print(item.get('zh').decode())\n",
    "    c += 1\n",
    "    sample_examples.append((item.get('zh').decode(), item.get('en').decode()))"
   ]
  },
  {
   "cell_type": "code",
   "execution_count": 9,
   "id": "6b277653-0155-4d4e-a626-0f4031d47d51",
   "metadata": {},
   "outputs": [
    {
     "name": "stdout",
     "output_type": "stream",
     "text": [
      "載入已建立的字典： nmt/en_vocab\n",
      "字典大小：8271\n",
      "前 100 個 subwords：[', ', 'the_', 'to_', 'of_', 'and_', 's_', 'in_', 'a_', 'is_', 'that_', '’', 'for_', ' – ', 'on_', 'be_', 'The_', 'as_', 'are_', 'ing_', 'with_', 'by_', 'it_', 'has_', 'not_', 'ed_', 'have_', 'will_', 'd_', 'from_', 'its_', 'their_', 'an_', 'more_', 'or_', ' “', 'would_', 'was_', 'at_', 'they_', 'this_', 'But_', 'which_', 'e_', 'In_', 'than_', 'US_', 'can_', 'but_', ' (', 'been_', 'y_', 'economic_', 'ly_', 'his_', 't_', '” ', 'also_', '% ', 'only_', 'new_', 'ed', 'should_', 'ng_', 'could_', 'we_', 'global_', 'one_', 'countries_', 'other_', 'all_', 'such_', 'about_', 'who_', 'political_', 'most_', ': ', 'no_', 'even_', '; ', 'if_', 'were_', 'China', 'many_', 'government_', 'ing', 'es_', 'European_', 'financial_', 'This_', 'when_', '’ ', 'ly', 'some_', 'must_', 'now_', 'he_', 'these_', 'there_', 'into_', 'al_']\n",
      "\n",
      "CPU times: user 23.4 ms, sys: 2.7 ms, total: 26.1 ms\n",
      "Wall time: 25.3 ms\n"
     ]
    }
   ],
   "source": [
    "%%time\n",
    "try:\n",
    "    subword_encoder_en = tfds.deprecated.text.SubwordTextEncoder.load_from_file(en_vocab_file)\n",
    "    print(f\"載入已建立的字典： {en_vocab_file}\")\n",
    "except:\n",
    "    print(\"沒有已建立的字典，從頭建立。\")\n",
    "    subword_encoder_en = tfds.deprecated.text.SubwordTextEncoder.build_from_corpus(\n",
    "        (item.get('zh').decode() for item in train_examples.as_numpy_iterator()),\n",
    "        target_vocab_size=2**13 \n",
    "    ) # 有需要可以調整字典大小\n",
    "    # 將字典檔案存下以方便下次 warmstart\n",
    "    subword_encoder_en.save_to_file(en_vocab_file)\n",
    "  \n",
    "\n",
    "print(f\"字典大小：{subword_encoder_en.vocab_size}\")\n",
    "print(f\"前 100 個 subwords：{subword_encoder_en.subwords[:100]}\")\n",
    "print()"
   ]
  },
  {
   "cell_type": "code",
   "execution_count": 10,
   "id": "aa5f0c49-4796-4d27-8677-846f1f27b056",
   "metadata": {},
   "outputs": [
    {
     "name": "stdout",
     "output_type": "stream",
     "text": [
      "[3106, 8047, 9, 3093, 3050, 1252, 8061]\n"
     ]
    }
   ],
   "source": [
    "sample_string = 'Taiwan is beautiful.'\n",
    "indices = subword_encoder_en.encode(sample_string)\n",
    "print(indices)"
   ]
  },
  {
   "cell_type": "code",
   "execution_count": 11,
   "id": "86aaf260-2986-4cb6-ab3c-01a84481e784",
   "metadata": {},
   "outputs": [
    {
     "name": "stdout",
     "output_type": "stream",
     "text": [
      "Index     Subword\n",
      "---------------\n",
      " 3106     'Taiwan'\n",
      " 8047     ' '\n",
      "    9     'is '\n",
      " 3093     'bea'\n",
      " 3050     'uti'\n",
      " 1252     'ful'\n",
      " 8061     '.'\n"
     ]
    }
   ],
   "source": [
    "print(\"{0:10}{1:6}\".format(\"Index\", \"Subword\"))\n",
    "print(\"-\" * 15)\n",
    "for idx in indices:\n",
    "    subword = subword_encoder_en.decode([idx])\n",
    "    print('{0:5}{1:6}'.format(idx, ' ' * 5 + \"'\" + subword + \"'\"))"
   ]
  },
  {
   "cell_type": "code",
   "execution_count": 12,
   "id": "19855acc-f348-477c-9d62-e0c7eeb89ee0",
   "metadata": {},
   "outputs": [
    {
     "name": "stdout",
     "output_type": "stream",
     "text": [
      "('Taiwan is beautiful.', 'Taiwan is beautiful.')\n"
     ]
    }
   ],
   "source": [
    "sample_string = 'Taiwan is beautiful.'\n",
    "indices = subword_encoder_en.encode(sample_string)\n",
    "decoded_string = subword_encoder_en.decode(indices)\n",
    "assert decoded_string == sample_string\n",
    "pprint((sample_string, decoded_string))"
   ]
  },
  {
   "cell_type": "code",
   "execution_count": 13,
   "id": "8b15726e-20e3-43ed-a28d-6648e4b11706",
   "metadata": {},
   "outputs": [
    {
     "name": "stdout",
     "output_type": "stream",
     "text": [
      "載入已建立的字典： nmt/zh_vocab\n",
      "字典大小：4800\n",
      "前 100 個 subwords：['的', '，', '。', '国', '在', '是', '一', '和', '不', '这', '有', '人', '—', '了', '为', '中', '政', '大', '以', '们', '能', '会', '经', '对', '年', '可', '要', '来', '而', '个', '美', '他', '家', '但', '其', '、', '行', '于', '上', '到', '成', '也', '地', '欧', '如', '出', '力', '发', '将', '多', '主', '实', '所', '济', '时', '法', '民', '利', '现', '全', '方', '（', '）', '自', '资', '些', '生', '斯', '我', '最', '更', '因', '就', '动', '性', '过', '者', '此', '之', '得', '本', '重', '并', '长', '“', '”', '定', '制', '新', '化', '洲', '机', '与', '业', '加', '用', '同', '前', '度', '作']\n",
      "\n",
      "CPU times: user 9.08 ms, sys: 5.73 ms, total: 14.8 ms\n",
      "Wall time: 14.4 ms\n"
     ]
    }
   ],
   "source": [
    "%%time\n",
    "# 為中文建立字典\n",
    "try:\n",
    "    subword_encoder_zh = tfds.deprecated.text.SubwordTextEncoder.load_from_file(zh_vocab_file)\n",
    "    print(f\"載入已建立的字典： {zh_vocab_file}\")\n",
    "except Exception:\n",
    "    print('沒有已建立的字典，從頭建立。')\n",
    "    subword_encoder_zh = tfds.deprecated.text.SubwordTextEncoder.build_from_corpus(\n",
    "        (item.get('en').decode() for item in train_examples.as_numpy_iterator()),\n",
    "        target_vocab_size=2**13,\n",
    "        max_subword_length=1  # 每一個中文字就是字典裡的一個單位\n",
    "    )\n",
    "    # 保存\n",
    "    subword_encoder_zh.save_to_file(zh_vocab_file)\n",
    "    \n",
    "print(f\"字典大小：{subword_encoder_zh.vocab_size}\")\n",
    "print(f\"前 100 個 subwords：{subword_encoder_zh.subwords[:100]}\")\n",
    "print()\n"
   ]
  },
  {
   "cell_type": "code",
   "execution_count": 14,
   "id": "7f172ac5-53c3-44c1-94d5-59f47cf1d483",
   "metadata": {},
   "outputs": [
    {
     "name": "stdout",
     "output_type": "stream",
     "text": [
      "这种恐惧是真实而内在的。 忽视它的政治家们前途堪忧。\n",
      "[10, 149, 572, 1245, 6, 385, 52, 29, 192, 5, 1, 3, 4576, 949, 438, 124, 1, 17, 123, 33, 20, 98, 1109, 1227, 856, 3]\n"
     ]
    }
   ],
   "source": [
    "sample_string = sample_examples[0][1]\n",
    "indices = subword_encoder_zh.encode(sample_string)\n",
    "print(sample_string)\n",
    "print(indices)"
   ]
  },
  {
   "cell_type": "code",
   "execution_count": 15,
   "id": "9c723249-2e8c-4fbb-9f12-4428d829ef0a",
   "metadata": {},
   "outputs": [
    {
     "name": "stdout",
     "output_type": "stream",
     "text": [
      "[英中原文]（轉換前）\n",
      "The eurozone’s collapse forces a major realignment of European politics.\n",
      "欧元区的瓦解强迫欧洲政治进行一次重大改组。\n",
      "\n",
      "--------------------\n",
      "\n",
      "[英中序列]（轉換後）\n",
      "[16, 936, 11, 6, 1591, 746, 8, 223, 2229, 2435, 245, 4, 87, 1270, 8061]\n",
      "[44, 201, 176, 1, 870, 202, 232, 601, 44, 91, 17, 123, 101, 37, 7, 279, 82, 18, 211, 273, 3]\n"
     ]
    }
   ],
   "source": [
    "en = \"The eurozone’s collapse forces a major realignment of European politics.\"\n",
    "zh = \"欧元区的瓦解强迫欧洲政治进行一次重大改组。\"\n",
    "\n",
    "# 將文字轉成為 subword indices\n",
    "en_indices = subword_encoder_en.encode(en)\n",
    "zh_indices = subword_encoder_zh.encode(zh)\n",
    "\n",
    "print(\"[英中原文]（轉換前）\")\n",
    "print(en)\n",
    "print(zh)\n",
    "print()\n",
    "print('-' * 20)\n",
    "print()\n",
    "print(\"[英中序列]（轉換後）\")\n",
    "print(en_indices)\n",
    "print(zh_indices)"
   ]
  },
  {
   "cell_type": "code",
   "execution_count": 16,
   "id": "b73f01b3-078d-4219-a79e-e1f41f1d509d",
   "metadata": {},
   "outputs": [],
   "source": [
    "def encode(en_t, zh_t):\n",
    "  # 因為字典的索引從 0 開始\n",
    "  # 我們可以使用 subword_encoder_en.vocab_size 這個值作為 BOS 的索引值\n",
    "  # 用 subword_encoder_en.vocab_size + 1 作為 EOS 的索引值\n",
    "  en_indices = [subword_encoder_en.vocab_size] + subword_encoder_en.encode(\n",
    "      en_t.numpy()) + [subword_encoder_en.vocab_size + 1]\n",
    "  # 同理，不過是使用中文字典的最後一個索引 + 1\n",
    "  zh_indices = [subword_encoder_zh.vocab_size] + subword_encoder_zh.encode(\n",
    "      zh_t.numpy()) + [subword_encoder_zh.vocab_size + 1]\n",
    "  \n",
    "  return en_indices, zh_indices"
   ]
  },
  {
   "cell_type": "code",
   "execution_count": 17,
   "id": "98f6e086-0ec6-4c64-b71f-eaffac36eab6",
   "metadata": {},
   "outputs": [
    {
     "name": "stdout",
     "output_type": "stream",
     "text": [
      "tf.Tensor(b'The fear is real and visceral, and politicians ignore it at their peril.', shape=(), dtype=string)\n",
      "tf.Tensor(b'\\xe8\\xbf\\x99\\xe7\\xa7\\x8d\\xe6\\x81\\x90\\xe6\\x83\\xa7\\xe6\\x98\\xaf\\xe7\\x9c\\x9f\\xe5\\xae\\x9e\\xe8\\x80\\x8c\\xe5\\x86\\x85\\xe5\\x9c\\xa8\\xe7\\x9a\\x84\\xe3\\x80\\x82 \\xe5\\xbf\\xbd\\xe8\\xa7\\x86\\xe5\\xae\\x83\\xe7\\x9a\\x84\\xe6\\x94\\xbf\\xe6\\xb2\\xbb\\xe5\\xae\\xb6\\xe4\\xbb\\xac\\xe5\\x89\\x8d\\xe9\\x80\\x94\\xe5\\xa0\\xaa\\xe5\\xbf\\xa7\\xe3\\x80\\x82', shape=(), dtype=string)\n",
      "英文 BOS 的 index： 8271\n",
      "英文 EOS 的 index： 8272\n",
      "中文 BOS 的 index： 4800\n",
      "中文 EOS 的 index： 4801\n",
      "\n",
      "輸入為 2 個 Tensors：\n",
      "(<tf.Tensor: shape=(), dtype=string, numpy=b'The fear is real and visceral, and politicians ignore it at their peril.'>,\n",
      " <tf.Tensor: shape=(), dtype=string, numpy=b'\\xe8\\xbf\\x99\\xe7\\xa7\\x8d\\xe6\\x81\\x90\\xe6\\x83\\xa7\\xe6\\x98\\xaf\\xe7\\x9c\\x9f\\xe5\\xae\\x9e\\xe8\\x80\\x8c\\xe5\\x86\\x85\\xe5\\x9c\\xa8\\xe7\\x9a\\x84\\xe3\\x80\\x82 \\xe5\\xbf\\xbd\\xe8\\xa7\\x86\\xe5\\xae\\x83\\xe7\\x9a\\x84\\xe6\\x94\\xbf\\xe6\\xb2\\xbb\\xe5\\xae\\xb6\\xe4\\xbb\\xac\\xe5\\x89\\x8d\\xe9\\x80\\x94\\xe5\\xa0\\xaa\\xe5\\xbf\\xa7\\xe3\\x80\\x82'>)\n",
      "---------------\n",
      "輸出為 2 個索引序列：\n",
      "([8271,\n",
      "  16,\n",
      "  1150,\n",
      "  9,\n",
      "  249,\n",
      "  5,\n",
      "  1422,\n",
      "  2155,\n",
      "  191,\n",
      "  1,\n",
      "  5,\n",
      "  1040,\n",
      "  5246,\n",
      "  22,\n",
      "  38,\n",
      "  31,\n",
      "  3529,\n",
      "  8123,\n",
      "  8061,\n",
      "  8272],\n",
      " [4800,\n",
      "  10,\n",
      "  149,\n",
      "  572,\n",
      "  1245,\n",
      "  6,\n",
      "  385,\n",
      "  52,\n",
      "  29,\n",
      "  192,\n",
      "  5,\n",
      "  1,\n",
      "  3,\n",
      "  4576,\n",
      "  949,\n",
      "  438,\n",
      "  124,\n",
      "  1,\n",
      "  17,\n",
      "  123,\n",
      "  33,\n",
      "  20,\n",
      "  98,\n",
      "  1109,\n",
      "  1227,\n",
      "  856,\n",
      "  3,\n",
      "  4801])\n"
     ]
    }
   ],
   "source": [
    "en_t = next(iter(train_examples)).get('zh')\n",
    "zh_t = next(iter(train_examples)).get('en')\n",
    "print(en_t)\n",
    "print(zh_t)\n",
    "en_indices, zh_indices = encode(en_t, zh_t)\n",
    "print('英文 BOS 的 index：', subword_encoder_en.vocab_size)\n",
    "print('英文 EOS 的 index：', subword_encoder_en.vocab_size + 1)\n",
    "print('中文 BOS 的 index：', subword_encoder_zh.vocab_size)\n",
    "print('中文 EOS 的 index：', subword_encoder_zh.vocab_size + 1)\n",
    "\n",
    "print('\\n輸入為 2 個 Tensors：')\n",
    "pprint((en_t, zh_t))\n",
    "print('-' * 15)\n",
    "print('輸出為 2 個索引序列：')\n",
    "pprint((en_indices, zh_indices))"
   ]
  },
  {
   "cell_type": "code",
   "execution_count": 18,
   "id": "746e01b2-038b-4fba-a5f2-80c9651c14ee",
   "metadata": {},
   "outputs": [
    {
     "name": "stdout",
     "output_type": "stream",
     "text": [
      "tf.Tensor(\n",
      "[8271   16 1150    9  249    5 1422 2155  191    1    5 1040 5246   22\n",
      "   38   31 3529 8123 8061 8272], shape=(20,), dtype=int64)\n",
      "tf.Tensor(\n",
      "[4800   10  149  572 1245    6  385   52   29  192    5    1    3 4576\n",
      "  949  438  124    1   17  123   33   20   98 1109 1227  856    3 4801], shape=(28,), dtype=int64)\n"
     ]
    }
   ],
   "source": [
    "def tf_encode(item):\n",
    "    # 在 `tf_encode` 函式裡頭的 `en_t` 與 `zh_t` 都不是 Eager Tensors\n",
    "    # 要到 `tf.py_funtion` 裡頭才是\n",
    "    # 另外因為索引都是整數，所以使用 `tf.int64`\n",
    "    en_t = item.get('zh')\n",
    "    zh_t = item.get('en')\n",
    "    return tf.py_function(encode, [en_t, zh_t], [tf.int64, tf.int64])\n",
    "\n",
    "# `tmp_dataset` 為說明用資料集，說明完所有重要的 func，\n",
    "# 我們會從頭建立一個正式的 `train_dataset`\n",
    "tmp_dataset = train_examples.map(tf_encode)\n",
    "en_indices, zh_indices = next(iter(tmp_dataset))\n",
    "print(en_indices)\n",
    "print(zh_indices)"
   ]
  },
  {
   "cell_type": "code",
   "execution_count": 19,
   "id": "419dd3d0-fee4-4ce6-9209-96a93ec65282",
   "metadata": {},
   "outputs": [],
   "source": [
    "MAX_LENGTH = 60\n",
    "\n",
    "def filter_max_length(en, zh, max_length=MAX_LENGTH):\n",
    "  # en, zh 分別代表英文與中文的索引序列\n",
    "  return tf.logical_and(tf.size(en) <= max_length,\n",
    "                        tf.size(zh) <= max_length)\n",
    "\n",
    "# tf.data.Dataset.filter(func) 只會回傳 func 為真的例子\n",
    "tmp_dataset = tmp_dataset.filter(filter_max_length)"
   ]
  },
  {
   "cell_type": "code",
   "execution_count": 20,
   "id": "d1840ad2-4fb8-4d73-b621-27725439be7c",
   "metadata": {},
   "outputs": [
    {
     "name": "stdout",
     "output_type": "stream",
     "text": [
      "所有英文與中文序列長度都不超過 60 個 tokens\n",
      "訓練資料集裡總共有 196859 筆數據\n"
     ]
    }
   ],
   "source": [
    "# 因為我們數據量小可以這樣 count\n",
    "num_examples = 0\n",
    "for en_indices, zh_indices in tmp_dataset:\n",
    "  cond1 = len(en_indices) <= MAX_LENGTH\n",
    "  cond2 = len(zh_indices) <= MAX_LENGTH\n",
    "  assert cond1 and cond2\n",
    "  num_examples += 1\n",
    "\n",
    "print(f\"所有英文與中文序列長度都不超過 {MAX_LENGTH} 個 tokens\")\n",
    "print(f\"訓練資料集裡總共有 {num_examples} 筆數據\")"
   ]
  },
  {
   "cell_type": "code",
   "execution_count": 21,
   "id": "8304b132-e8bb-4154-b9bc-9320c3d30c88",
   "metadata": {},
   "outputs": [],
   "source": [
    "BATCH_SIZE = 128\n",
    "BUFFER_SIZE = 15000\n",
    "\n",
    "\n",
    "# 訓練集\n",
    "train_dataset = (train_examples # 輸出：(英文句子, 中文句子)\n",
    "                 .map(tf_encode) # 輸出：(英文索引序列, 中文索引序列)\n",
    "                 .filter(filter_max_length) # 同上，且序列長度都不超過 MAX_LENGTH\n",
    "                 .cache() # 加快讀取數據\n",
    "                 .shuffle(BUFFER_SIZE) # 將例子洗牌確保隨機性\n",
    "                 .padded_batch(BATCH_SIZE, \n",
    "                               padded_shapes=([-1], [-1]) # padded_shapes=([MAX_LENGTH], [MAX_LENGTH]\n",
    "                              ) # 將 batch 裡的序列都 pad 到一樣長度\n",
    "                 .prefetch(tf.data.experimental.AUTOTUNE)) # 加速\n",
    "\n",
    "# 驗證集\n",
    "val_dataset = (val_examples\n",
    "                 .map(tf_encode)\n",
    "                 .filter(filter_max_length)\n",
    "                 .padded_batch(BATCH_SIZE, padded_shapes=([-1], [-1])))\n",
    "\n",
    "# 測試集\n",
    "test_dataset = (test_examples\n",
    "                 .map(tf_encode)\n",
    "                 .filter(filter_max_length)\n",
    "                 .padded_batch(BATCH_SIZE, padded_shapes=([-1], [-1])))\n"
   ]
  },
  {
   "cell_type": "code",
   "execution_count": 22,
   "id": "87b26f62-174d-4e69-8112-4c1718d469a8",
   "metadata": {},
   "outputs": [
    {
     "name": "stdout",
     "output_type": "stream",
     "text": [
      "英文索引序列的 batch\n",
      "tf.Tensor(\n",
      "[[8271  316  238 ...    0    0    0]\n",
      " [8271   89 6273 ...    0    0    0]\n",
      " [8271  157   39 ...    0    0    0]\n",
      " ...\n",
      " [8271 8084  472 ...    0    0    0]\n",
      " [8271  123  302 ...    0    0    0]\n",
      " [8271  244    8 ...    0    0    0]], shape=(128, 59), dtype=int64)\n",
      "--------------------\n",
      "中文索引序列的 batch\n",
      "tf.Tensor(\n",
      "[[4800  161   38 ...    0    0    0]\n",
      " [4800   10  700 ...    3 4801    0]\n",
      " [4800   45  116 ...    0    0    0]\n",
      " ...\n",
      " [4800  233   68 ...    0    0    0]\n",
      " [4800   29  125 ...    0    0    0]\n",
      " [4800    5  237 ...    0    0    0]], shape=(128, 60), dtype=int64)\n"
     ]
    }
   ],
   "source": [
    "en_batch, zh_batch = next(iter(train_dataset))\n",
    "print(\"英文索引序列的 batch\")\n",
    "print(en_batch)\n",
    "print('-' * 20)\n",
    "print(\"中文索引序列的 batch\")\n",
    "print(zh_batch)"
   ]
  },
  {
   "cell_type": "code",
   "execution_count": 23,
   "id": "6257eec2-775c-4c5c-9d25-75e6781c9712",
   "metadata": {},
   "outputs": [
    {
     "name": "stdout",
     "output_type": "stream",
     "text": [
      "{'en': ['这很重要。', '数字证明了一切。'],\n",
      " 'zh': ['It is important.', 'The numbers speak for themselves.']}\n"
     ]
    }
   ],
   "source": [
    "demo_examples = {'zh': ['It is important.', 'The numbers speak for themselves.'], \n",
    "                 'en': ['这很重要。', '数字证明了一切。']}\n",
    "pprint(demo_examples)"
   ]
  },
  {
   "cell_type": "code",
   "execution_count": 24,
   "id": "2a2a4f1c-1a41-4477-be7f-65726e3563eb",
   "metadata": {},
   "outputs": [
    {
     "name": "stdout",
     "output_type": "stream",
     "text": [
      "inp: tf.Tensor(\n",
      "[[8271  103    9  984 8061 8272    0    0]\n",
      " [8271   16 3991 5315   12 2337 8061 8272]], shape=(2, 8), dtype=int64)\n",
      "\n",
      "tar: tf.Tensor(\n",
      "[[4800   10  237   82   27    3 4801    0    0    0]\n",
      " [4800  166  490  406  193   14    7  552    3 4801]], shape=(2, 10), dtype=int64)\n"
     ]
    }
   ],
   "source": [
    "batch_size = 2\n",
    "demo_examples = tf.data.Dataset.from_tensor_slices(\n",
    "    demo_examples\n",
    ")\n",
    "\n",
    "demo_dataset = demo_examples.map(tf_encode).padded_batch(batch_size, padded_shapes=([-1], [-1]))\n",
    "\n",
    "inp, tar = next(iter(demo_dataset))\n",
    "print('inp:', inp)\n",
    "print('' * 10)\n",
    "print('tar:', tar)"
   ]
  },
  {
   "cell_type": "code",
   "execution_count": 25,
   "id": "b06554ec-7921-4db2-8296-484fed65483d",
   "metadata": {},
   "outputs": [
    {
     "data": {
      "text/plain": [
       "(<tf.Tensor: shape=(2, 8, 4), dtype=float32, numpy=\n",
       " array([[[ 0.00731532, -0.03201591,  0.03905975,  0.04797098],\n",
       "         [-0.0366235 , -0.00375736,  0.04569234,  0.01163111],\n",
       "         [ 0.04726856, -0.03191681, -0.02939991, -0.03378211],\n",
       "         [-0.03652076,  0.02725298, -0.02106973, -0.02914258],\n",
       "         [ 0.02684525,  0.01733326,  0.02097073, -0.02208864],\n",
       "         [-0.01084427,  0.00910794, -0.01156554, -0.0071543 ],\n",
       "         [-0.01613613,  0.03566057, -0.04537519, -0.01144149],\n",
       "         [-0.01613613,  0.03566057, -0.04537519, -0.01144149]],\n",
       " \n",
       "        [[ 0.00731532, -0.03201591,  0.03905975,  0.04797098],\n",
       "         [ 0.02446325, -0.02298675,  0.02559366,  0.02224514],\n",
       "         [-0.02628883,  0.00246524, -0.00510386, -0.01277151],\n",
       "         [ 0.04829365,  0.02565838, -0.00990652, -0.04993993],\n",
       "         [ 0.03326495, -0.04427944, -0.04906414, -0.0019776 ],\n",
       "         [-0.02530547,  0.01936592, -0.0457485 ,  0.01216144],\n",
       "         [ 0.02684525,  0.01733326,  0.02097073, -0.02208864],\n",
       "         [-0.01084427,  0.00910794, -0.01156554, -0.0071543 ]]],\n",
       "       dtype=float32)>,\n",
       " <tf.Tensor: shape=(2, 10, 4), dtype=float32, numpy=\n",
       " array([[[ 0.03018809,  0.02772966,  0.033124  ,  0.03716457],\n",
       "         [ 0.01822342,  0.04289198, -0.02956367,  0.04136899],\n",
       "         [ 0.02675866,  0.00087608, -0.02886534,  0.01634819],\n",
       "         [-0.01838303,  0.03234065, -0.001836  , -0.03319644],\n",
       "         [ 0.00582308,  0.01177128,  0.00924579,  0.03551194],\n",
       "         [-0.00516673,  0.00119359, -0.00121345, -0.04757861],\n",
       "         [-0.03111359, -0.00290207,  0.02456255,  0.04642658],\n",
       "         [-0.01079718,  0.03529638, -0.02600555,  0.01229019],\n",
       "         [-0.01079718,  0.03529638, -0.02600555,  0.01229019],\n",
       "         [-0.01079718,  0.03529638, -0.02600555,  0.01229019]],\n",
       " \n",
       "        [[ 0.03018809,  0.02772966,  0.033124  ,  0.03716457],\n",
       "         [-0.02203496,  0.01723207, -0.00108542, -0.04882553],\n",
       "         [-0.02799409, -0.02210044, -0.03539402, -0.01938089],\n",
       "         [-0.0165637 , -0.03534932,  0.00263242, -0.00294723],\n",
       "         [-0.04938749,  0.03874001,  0.00227449, -0.00210779],\n",
       "         [ 0.04323832, -0.02986794,  0.010677  , -0.00137632],\n",
       "         [ 0.03407819,  0.02498594, -0.04496486, -0.01946827],\n",
       "         [ 0.00234399, -0.0047228 ,  0.04491762,  0.04980611],\n",
       "         [-0.00516673,  0.00119359, -0.00121345, -0.04757861],\n",
       "         [-0.03111359, -0.00290207,  0.02456255,  0.04642658]]],\n",
       "       dtype=float32)>)"
      ]
     },
     "execution_count": 25,
     "metadata": {},
     "output_type": "execute_result"
    }
   ],
   "source": [
    "# + 2 是因為我們額外加了 <start> 以及 <end> tokens\n",
    "vocab_size_en = subword_encoder_en.vocab_size + 2\n",
    "vocab_size_zh = subword_encoder_zh.vocab_size + 2\n",
    "\n",
    "# 為了方便 demo, 將詞彙轉換到一個 4 維的詞嵌入空間\n",
    "d_model = 4\n",
    "embedding_layer_en = tf.keras.layers.Embedding(vocab_size_en, d_model)\n",
    "embedding_layer_zh = tf.keras.layers.Embedding(vocab_size_zh, d_model)\n",
    "\n",
    "emb_inp = embedding_layer_en(inp)\n",
    "emb_tar = embedding_layer_zh(tar)\n",
    "emb_inp, emb_tar"
   ]
  },
  {
   "cell_type": "code",
   "execution_count": 26,
   "id": "422672ef-11e4-475a-8b42-69cf611fe1dc",
   "metadata": {},
   "outputs": [
    {
     "name": "stdout",
     "output_type": "stream",
     "text": [
      "tar[0]: tf.Tensor([0 0 0], shape=(3,), dtype=int64)\n",
      "--------------------\n",
      "emb_tar[0]: tf.Tensor(\n",
      "[[-0.01079718  0.03529638 -0.02600555  0.01229019]\n",
      " [-0.01079718  0.03529638 -0.02600555  0.01229019]\n",
      " [-0.01079718  0.03529638 -0.02600555  0.01229019]], shape=(3, 4), dtype=float32)\n"
     ]
    }
   ],
   "source": [
    "print(\"tar[0]:\", tar[0][-3:])\n",
    "print(\"-\" * 20)\n",
    "print(\"emb_tar[0]:\", emb_tar[0][-3:])"
   ]
  },
  {
   "cell_type": "code",
   "execution_count": 27,
   "id": "92959cea-df28-4a96-933d-ae79a7e4f61e",
   "metadata": {},
   "outputs": [
    {
     "data": {
      "text/plain": [
       "<tf.Tensor: shape=(2, 1, 1, 8), dtype=float32, numpy=\n",
       "array([[[[0., 0., 0., 0., 0., 0., 1., 1.]]],\n",
       "\n",
       "\n",
       "       [[[0., 0., 0., 0., 0., 0., 0., 0.]]]], dtype=float32)>"
      ]
     },
     "execution_count": 27,
     "metadata": {},
     "output_type": "execute_result"
    }
   ],
   "source": [
    "def create_padding_mask(seq):\n",
    "  # padding mask 的工作就是把索引序列中為 0 的位置設為 1\n",
    "  mask = tf.cast(tf.equal(seq, 0), tf.float32)\n",
    "  return mask[:, tf.newaxis, tf.newaxis, :] #　broadcasting\n",
    "\n",
    "inp_mask = create_padding_mask(inp)\n",
    "inp_mask"
   ]
  },
  {
   "cell_type": "code",
   "execution_count": 28,
   "id": "83671d95-c600-4205-8650-d9c3491a6d37",
   "metadata": {},
   "outputs": [
    {
     "name": "stdout",
     "output_type": "stream",
     "text": [
      "inp: tf.Tensor(\n",
      "[[8271  103    9  984 8061 8272    0    0]\n",
      " [8271   16 3991 5315   12 2337 8061 8272]], shape=(2, 8), dtype=int64)\n",
      "--------------------\n",
      "tf.squeeze(inp_mask): tf.Tensor(\n",
      "[[0. 0. 0. 0. 0. 0. 1. 1.]\n",
      " [0. 0. 0. 0. 0. 0. 0. 0.]], shape=(2, 8), dtype=float32)\n"
     ]
    }
   ],
   "source": [
    "print(\"inp:\", inp)\n",
    "print(\"-\" * 20)\n",
    "print(\"tf.squeeze(inp_mask):\", tf.squeeze(inp_mask))"
   ]
  },
  {
   "cell_type": "code",
   "execution_count": 29,
   "id": "896b5f21-0f17-4a1f-a7c2-af45d65b7e42",
   "metadata": {},
   "outputs": [
    {
     "data": {
      "text/plain": [
       "<tf.Tensor: shape=(2, 8, 4), dtype=float32, numpy=\n",
       "array([[[1., 0., 0., 0.],\n",
       "        [0., 1., 0., 1.],\n",
       "        [0., 0., 0., 1.],\n",
       "        [1., 0., 1., 0.],\n",
       "        [1., 0., 1., 0.],\n",
       "        [0., 1., 0., 1.],\n",
       "        [0., 0., 1., 0.],\n",
       "        [0., 1., 0., 1.]],\n",
       "\n",
       "       [[1., 0., 1., 1.],\n",
       "        [1., 0., 1., 0.],\n",
       "        [1., 0., 0., 0.],\n",
       "        [1., 0., 1., 0.],\n",
       "        [0., 1., 0., 1.],\n",
       "        [1., 1., 1., 1.],\n",
       "        [0., 0., 0., 0.],\n",
       "        [0., 0., 1., 0.]]], dtype=float32)>"
      ]
     },
     "execution_count": 29,
     "metadata": {},
     "output_type": "execute_result"
    }
   ],
   "source": [
    "# 設定一個 seed 確保我們每次都拿到一樣的隨機結果\n",
    "tf.random.set_seed(9527)\n",
    "\n",
    "# 自注意力機制：查詢 `q` 跟鍵值 `k` 都是 `emb_inp`\n",
    "q = emb_inp\n",
    "k = emb_inp\n",
    "# 簡單產生一個跟 `emb_inp` 同樣 shape 的 binary vector\n",
    "v = tf.cast(tf.math.greater(tf.random.uniform(shape=emb_inp.shape), 0.5), tf.float32)\n",
    "v"
   ]
  },
  {
   "cell_type": "code",
   "execution_count": 30,
   "id": "96fa071e-41d1-4b5f-bd2a-c5bc247dc9b3",
   "metadata": {},
   "outputs": [],
   "source": [
    "def scaled_dot_product_attention(q, k, v, mask):\n",
    "  \"\"\"Calculate the attention weights.\n",
    "  q, k, v must have matching leading dimensions.\n",
    "  k, v must have matching penultimate dimension, i.e.: seq_len_k = seq_len_v.\n",
    "  The mask has different shapes depending on its type(padding or look ahead) \n",
    "  but it must be broadcastable for addition.\n",
    "  \n",
    "  Args:\n",
    "    q: query shape == (..., seq_len_q, depth)\n",
    "    k: key shape == (..., seq_len_k, depth)\n",
    "    v: value shape == (..., seq_len_v, depth_v)\n",
    "    mask: Float tensor with shape broadcastable \n",
    "          to (..., seq_len_q, seq_len_k). Defaults to None.\n",
    "    \n",
    "  Returns:\n",
    "    output, attention_weights\n",
    "  \"\"\"\n",
    "  # 將 `q`、 `k` 做點積再 scale\n",
    "  matmul_qk = tf.matmul(q, k, transpose_b=True)  # (..., seq_len_q, seq_len_k)\n",
    "  \n",
    "  dk = tf.cast(tf.shape(k)[-1], tf.float32)  # 取得 seq_k 的序列長度\n",
    "  scaled_attention_logits = matmul_qk / tf.math.sqrt(dk)  # scale by sqrt(dk)\n",
    "\n",
    "  # 將遮罩「加」到被丟入 softmax 前的 logits\n",
    "  if mask is not None:\n",
    "    scaled_attention_logits += (mask * -1e9)\n",
    "\n",
    "  # 取 softmax 是為了得到總和為 1 的比例之後對 `v` 做加權平均\n",
    "  attention_weights = tf.nn.softmax(scaled_attention_logits, axis=-1)  # (..., seq_len_q, seq_len_k)\n",
    "  \n",
    "  # 以注意權重對 v 做加權平均（weighted average）\n",
    "  output = tf.matmul(attention_weights, v)  # (..., seq_len_q, depth_v)\n",
    "\n",
    "  return output, attention_weights"
   ]
  },
  {
   "cell_type": "code",
   "execution_count": 31,
   "id": "83c0b084-5c84-4a6c-aa6e-36a5bf4b91b2",
   "metadata": {},
   "outputs": [
    {
     "name": "stdout",
     "output_type": "stream",
     "text": [
      "output: tf.Tensor(\n",
      "[[[0.37521374 0.3749948  0.37468296 0.49995857]\n",
      "  [0.3751519  0.37513947 0.37490532 0.4999439 ]\n",
      "  [0.3749082  0.37477073 0.37498447 0.50010145]\n",
      "  [0.37485403 0.37511486 0.37524205 0.5000103 ]\n",
      "  [0.37505832 0.37492564 0.37506366 0.4999762 ]\n",
      "  [0.3749389  0.37503454 0.37508094 0.5000063 ]\n",
      "  [0.37479633 0.37506634 0.3752526  0.500013  ]\n",
      "  [0.37479633 0.37506634 0.3752526  0.500013  ]]\n",
      "\n",
      " [[0.6251191  0.24986133 0.6251139  0.37517267]\n",
      "  [0.6250367  0.24988995 0.62504834 0.37506616]\n",
      "  [0.62500453 0.25003296 0.6249777  0.37497914]\n",
      "  [0.62485266 0.24994776 0.6248964  0.37471318]\n",
      "  [0.6248511  0.2502895  0.6248839  0.3752247 ]\n",
      "  [0.62498736 0.25025123 0.62499374 0.37513322]\n",
      "  [0.6249726  0.24983004 0.62498945 0.37478358]\n",
      "  [0.62498736 0.25005344 0.6249829  0.3749851 ]]], shape=(2, 8, 4), dtype=float32)\n",
      "--------------------\n",
      "attention_weights: tf.Tensor(\n",
      "[[[0.12535845 0.12518868 0.12496377 0.1248414  0.1250139  0.12497848\n",
      "   0.12482765 0.12482765]\n",
      "  [0.12515077 0.12523736 0.12480441 0.12500933 0.1249918  0.12499794\n",
      "   0.12490419 0.12490419]\n",
      "  [0.12491408 0.12479259 0.12533073 0.12493964 0.12505448 0.12498778\n",
      "   0.12499036 0.12499036]\n",
      "  [0.12474763 0.12495326 0.12489545 0.12516813 0.12493829 0.12502594\n",
      "   0.12513565 0.12513565]\n",
      "  [0.12496024 0.12497599 0.12505053 0.12497854 0.12511954 0.12498407\n",
      "   0.12496557 0.12496557]\n",
      "  [0.12491278 0.12497007 0.12497176 0.12505415 0.124972   0.1250097\n",
      "   0.12505478 0.12505478]\n",
      "  [0.12473438 0.12484866 0.12494664 0.12513614 0.12492581 0.12502705\n",
      "   0.12519066 0.12519066]\n",
      "  [0.12473438 0.12484866 0.12494664 0.12513614 0.12492581 0.12502705\n",
      "   0.12519066 0.12519066]]\n",
      "\n",
      " [[0.12531133 0.12519085 0.12493667 0.12480134 0.12498246 0.12487888\n",
      "   0.12496692 0.12493151]\n",
      "  [0.12517619 0.12513207 0.12492008 0.12494142 0.12502296 0.12486699\n",
      "   0.12500869 0.12493161]\n",
      "  [0.12494618 0.12494422 0.12506929 0.1249815  0.12496962 0.12506333\n",
      "   0.12498338 0.1250425 ]\n",
      "  [0.12476541 0.12492009 0.12493601 0.1253177  0.12503432 0.12491345\n",
      "   0.12513323 0.12497973]\n",
      "  [0.1249352  0.12499033 0.12491287 0.12502304 0.12529984 0.12498966\n",
      "   0.12490339 0.12494569]\n",
      "  [0.12488199 0.12488475 0.12505694 0.12495252 0.12504007 0.12521116\n",
      "   0.12490928 0.1250633 ]\n",
      "  [0.12495354 0.12500995 0.12496047 0.12515585 0.12493725 0.12489279\n",
      "   0.12511282 0.12497737]\n",
      "  [0.12493166 0.12494641 0.12503314 0.12501587 0.12499311 0.12506032\n",
      "   0.1249909  0.1250286 ]]], shape=(2, 8, 8), dtype=float32)\n"
     ]
    }
   ],
   "source": [
    "mask = None\n",
    "output, attention_weights = scaled_dot_product_attention(q, k, v, mask)\n",
    "print(\"output:\", output)\n",
    "print(\"-\" * 20)\n",
    "print(\"attention_weights:\", attention_weights)"
   ]
  },
  {
   "cell_type": "code",
   "execution_count": 32,
   "id": "77fa4181-40ef-4704-b04e-3591215095d0",
   "metadata": {},
   "outputs": [
    {
     "name": "stdout",
     "output_type": "stream",
     "text": [
      "x: tf.Tensor(\n",
      "[[[ 0.00731532 -0.03201591  0.03905975  0.04797098]\n",
      "  [-0.0366235  -0.00375736  0.04569234  0.01163111]\n",
      "  [ 0.04726856 -0.03191681 -0.02939991 -0.03378211]\n",
      "  [-0.03652076  0.02725298 -0.02106973 -0.02914258]\n",
      "  [ 0.02684525  0.01733326  0.02097073 -0.02208864]\n",
      "  [-0.01084427  0.00910794 -0.01156554 -0.0071543 ]\n",
      "  [-0.01613613  0.03566057 -0.04537519 -0.01144149]\n",
      "  [-0.01613613  0.03566057 -0.04537519 -0.01144149]]\n",
      "\n",
      " [[ 0.00731532 -0.03201591  0.03905975  0.04797098]\n",
      "  [ 0.02446325 -0.02298675  0.02559366  0.02224514]\n",
      "  [-0.02628883  0.00246524 -0.00510386 -0.01277151]\n",
      "  [ 0.04829365  0.02565838 -0.00990652 -0.04993993]\n",
      "  [ 0.03326495 -0.04427944 -0.04906414 -0.0019776 ]\n",
      "  [-0.02530547  0.01936592 -0.0457485   0.01216144]\n",
      "  [ 0.02684525  0.01733326  0.02097073 -0.02208864]\n",
      "  [-0.01084427  0.00910794 -0.01156554 -0.0071543 ]]], shape=(2, 8, 4), dtype=float32)\n",
      "output: tf.Tensor(\n",
      "[[[[ 0.00731532 -0.03201591]\n",
      "   [-0.0366235  -0.00375736]\n",
      "   [ 0.04726856 -0.03191681]\n",
      "   [-0.03652076  0.02725298]\n",
      "   [ 0.02684525  0.01733326]\n",
      "   [-0.01084427  0.00910794]\n",
      "   [-0.01613613  0.03566057]\n",
      "   [-0.01613613  0.03566057]]\n",
      "\n",
      "  [[ 0.03905975  0.04797098]\n",
      "   [ 0.04569234  0.01163111]\n",
      "   [-0.02939991 -0.03378211]\n",
      "   [-0.02106973 -0.02914258]\n",
      "   [ 0.02097073 -0.02208864]\n",
      "   [-0.01156554 -0.0071543 ]\n",
      "   [-0.04537519 -0.01144149]\n",
      "   [-0.04537519 -0.01144149]]]\n",
      "\n",
      "\n",
      " [[[ 0.00731532 -0.03201591]\n",
      "   [ 0.02446325 -0.02298675]\n",
      "   [-0.02628883  0.00246524]\n",
      "   [ 0.04829365  0.02565838]\n",
      "   [ 0.03326495 -0.04427944]\n",
      "   [-0.02530547  0.01936592]\n",
      "   [ 0.02684525  0.01733326]\n",
      "   [-0.01084427  0.00910794]]\n",
      "\n",
      "  [[ 0.03905975  0.04797098]\n",
      "   [ 0.02559366  0.02224514]\n",
      "   [-0.00510386 -0.01277151]\n",
      "   [-0.00990652 -0.04993993]\n",
      "   [-0.04906414 -0.0019776 ]\n",
      "   [-0.0457485   0.01216144]\n",
      "   [ 0.02097073 -0.02208864]\n",
      "   [-0.01156554 -0.0071543 ]]]], shape=(2, 2, 8, 2), dtype=float32)\n"
     ]
    }
   ],
   "source": [
    "def split_heads(x, d_model, num_heads):\n",
    "  # x.shape: (batch_size, seq_len, d_model)\n",
    "  batch_size = tf.shape(x)[0]\n",
    "  \n",
    "  # 我們要確保維度 `d_model` 可以被平分成 `num_heads` 個 `depth` 維度\n",
    "  assert d_model % num_heads == 0\n",
    "  depth = d_model // num_heads  # 這是分成多頭以後每個向量的維度 \n",
    "  \n",
    "  # 將最後一個 d_model 維度分成 num_heads 個 depth 維度。\n",
    "  # 最後一個維度變成兩個維度，張量 x 從 3 維到 4 維\n",
    "  # (batch_size, seq_len, num_heads, depth)\n",
    "  reshaped_x = tf.reshape(x, shape=(batch_size, -1, num_heads, depth))\n",
    "  \n",
    "  # 將 head 的維度拉前使得最後兩個維度為子詞以及其對應的 depth 向量\n",
    "  # (batch_size, num_heads, seq_len, depth)\n",
    "  output = tf.transpose(reshaped_x, perm=[0, 2, 1, 3])\n",
    "  \n",
    "  return output\n",
    "\n",
    "# 我們的 `emb_inp` 裡頭的子詞本來就是 4 維的詞嵌入向量\n",
    "d_model = 4\n",
    "# 將 4 維詞嵌入向量分為 2 個 head 的 2 維矩陣\n",
    "num_heads = 2\n",
    "x = emb_inp\n",
    "\n",
    "output = split_heads(x, d_model, num_heads)  \n",
    "print(\"x:\", x)\n",
    "print(\"output:\", output)"
   ]
  },
  {
   "cell_type": "code",
   "execution_count": 33,
   "id": "48eed403-8c68-461d-956b-3791fc256320",
   "metadata": {},
   "outputs": [],
   "source": [
    "# 實作一個執行多頭注意力機制的 keras layer\n",
    "# 在初始的時候指定輸出維度 `d_model` & `num_heads，\n",
    "# 在呼叫的時候輸入 `v`, `k`, `q` 以及 `mask`\n",
    "# 輸出跟 scaled_dot_product_attention 函式一樣有兩個：\n",
    "# output.shape            == (batch_size, seq_len_q, d_model)\n",
    "# attention_weights.shape == (batch_size, num_heads, seq_len_q, seq_len_k)\n",
    "class MultiHeadAttention(tf.keras.layers.Layer):\n",
    "  # 在初始的時候建立一些必要參數\n",
    "  def __init__(self, d_model, num_heads):\n",
    "    super(MultiHeadAttention, self).__init__()\n",
    "    self.num_heads = num_heads # 指定要將 `d_model` 拆成幾個 heads\n",
    "    self.d_model = d_model # 在 split_heads 之前的基底維度\n",
    "    \n",
    "    assert d_model % self.num_heads == 0  # 前面看過，要確保可以平分\n",
    "    \n",
    "    self.depth = d_model // self.num_heads  # 每個 head 裡子詞的新的 repr. 維度\n",
    "    \n",
    "    self.wq = tf.keras.layers.Dense(d_model)  # 分別給 q, k, v 的 3 個線性轉換 \n",
    "    self.wk = tf.keras.layers.Dense(d_model)  # 注意我們並沒有指定 activation func\n",
    "    self.wv = tf.keras.layers.Dense(d_model)\n",
    "    \n",
    "    self.dense = tf.keras.layers.Dense(d_model)  # 多 heads 串接後通過的線性轉換\n",
    "  \n",
    "  # 這跟我們前面看過的函式有 87% 相似\n",
    "  def split_heads(self, x, batch_size):\n",
    "    \"\"\"Split the last dimension into (num_heads, depth).\n",
    "    Transpose the result such that the shape is (batch_size, num_heads, seq_len, depth)\n",
    "    \"\"\"\n",
    "    x = tf.reshape(x, (batch_size, -1, self.num_heads, self.depth))\n",
    "    return tf.transpose(x, perm=[0, 2, 1, 3])\n",
    "  \n",
    "  # multi-head attention 的實際執行流程，注意參數順序（這邊跟論文以及 TensorFlow 官方教學一致）\n",
    "  def call(self, v, k, q, mask):\n",
    "    batch_size = tf.shape(q)[0]\n",
    "    \n",
    "    # 將輸入的 q, k, v 都各自做一次線性轉換到 `d_model` 維空間\n",
    "    q = self.wq(q)  # (batch_size, seq_len, d_model)\n",
    "    k = self.wk(k)  # (batch_size, seq_len, d_model)\n",
    "    v = self.wv(v)  # (batch_size, seq_len, d_model)\n",
    "    \n",
    "    # 前面看過的，將最後一個 `d_model` 維度分成 `num_heads` 個 `depth` 維度\n",
    "    q = self.split_heads(q, batch_size)  # (batch_size, num_heads, seq_len_q, depth)\n",
    "    k = self.split_heads(k, batch_size)  # (batch_size, num_heads, seq_len_k, depth)\n",
    "    v = self.split_heads(v, batch_size)  # (batch_size, num_heads, seq_len_v, depth)\n",
    "    \n",
    "    # 利用 broadcasting 讓每個句子的每個 head 的 qi, ki, vi 都各自進行注意力機制\n",
    "    # 輸出會多一個 head 維度\n",
    "    scaled_attention, attention_weights = scaled_dot_product_attention(\n",
    "        q, k, v, mask)\n",
    "    # scaled_attention.shape == (batch_size, num_heads, seq_len_q, depth)\n",
    "    # attention_weights.shape == (batch_size, num_heads, seq_len_q, seq_len_k)\n",
    "    \n",
    "    # 跟我們在 `split_heads` 函式做的事情剛好相反，先做 transpose 再做 reshape\n",
    "    # 將 `num_heads` 個 `depth` 維度串接回原來的 `d_model` 維度\n",
    "    scaled_attention = tf.transpose(scaled_attention, perm=[0, 2, 1, 3])\n",
    "    # (batch_size, seq_len_q, num_heads, depth)\n",
    "    concat_attention = tf.reshape(scaled_attention, \n",
    "                                  (batch_size, -1, self.d_model)) \n",
    "    # (batch_size, seq_len_q, d_model)\n",
    "\n",
    "    # 通過最後一個線性轉換\n",
    "    output = self.dense(concat_attention)  # (batch_size, seq_len_q, d_model)\n",
    "        \n",
    "    return output, attention_weights"
   ]
  },
  {
   "cell_type": "code",
   "execution_count": 34,
   "id": "137d40d6-6ad5-4bf9-8cc9-d4786fc6793f",
   "metadata": {},
   "outputs": [
    {
     "name": "stdout",
     "output_type": "stream",
     "text": [
      "d_model: 4\n",
      "num_heads: 2\n",
      "\n",
      "q.shape: (2, 8, 4)\n",
      "k.shape: (2, 8, 4)\n",
      "v.shape: (2, 8, 4)\n",
      "padding_mask.shape: (2, 1, 1, 8)\n",
      "output.shape: (2, 8, 4)\n",
      "attention_weights.shape: (2, 2, 8, 8)\n",
      "\n",
      "output: tf.Tensor(\n",
      "[[[ 0.00342836 -0.00019767 -0.00000927 -0.00013037]\n",
      "  [ 0.00343046 -0.00019972 -0.00000771 -0.00012643]\n",
      "  [ 0.00342361 -0.00021318  0.00000605 -0.00011791]\n",
      "  [ 0.00342252 -0.00021149  0.00000392 -0.00011704]\n",
      "  [ 0.00342846 -0.00020443 -0.0000041  -0.0001251 ]\n",
      "  [ 0.00342389 -0.00020905  0.00000149 -0.0001207 ]\n",
      "  [ 0.00341975 -0.00021435  0.00000606 -0.00011735]\n",
      "  [ 0.00341975 -0.00021435  0.00000606 -0.00011735]]\n",
      "\n",
      " [[-0.00738585  0.00206022  0.00127354 -0.00107395]\n",
      "  [-0.00738504  0.00205962  0.00127429 -0.00107338]\n",
      "  [-0.00739022  0.00205914  0.00127804 -0.00106889]\n",
      "  [-0.00738507  0.00205778  0.00127595 -0.00106958]\n",
      "  [-0.00738399  0.00206299  0.00127409 -0.00107103]\n",
      "  [-0.00739028  0.0020585   0.00127783 -0.00107056]\n",
      "  [-0.00738511  0.00205735  0.00127581 -0.0010707 ]\n",
      "  [-0.00739026  0.00205871  0.0012779  -0.00107   ]]], shape=(2, 8, 4), dtype=float32)\n"
     ]
    }
   ],
   "source": [
    "# emb_inp.shape == (batch_size, seq_len, d_model)\n",
    "#               == (2, 8, 4)\n",
    "assert d_model == emb_inp.shape[-1]  == 4\n",
    "num_heads = 2\n",
    "\n",
    "print(f\"d_model: {d_model}\")\n",
    "print(f\"num_heads: {num_heads}\\n\")\n",
    "\n",
    "# 初始化一個 multi-head attention layer\n",
    "mha = MultiHeadAttention(d_model, num_heads)\n",
    "\n",
    "# 簡單將 v, k, q 都設置為 `emb_inp`\n",
    "# 順便看看 padding mask 的作用。\n",
    "# 別忘記，第一個英文序列的最後兩個 tokens 是 <pad>\n",
    "v = k = q = emb_inp\n",
    "padding_mask = create_padding_mask(inp)\n",
    "print(\"q.shape:\", q.shape)\n",
    "print(\"k.shape:\", k.shape)\n",
    "print(\"v.shape:\", v.shape)\n",
    "print(\"padding_mask.shape:\", padding_mask.shape)\n",
    "\n",
    "output, attention_weights = mha(v, k, q, mask)\n",
    "print(\"output.shape:\", output.shape)\n",
    "print(\"attention_weights.shape:\", attention_weights.shape)\n",
    "\n",
    "print(\"\\noutput:\", output)"
   ]
  },
  {
   "cell_type": "code",
   "execution_count": 35,
   "id": "ff12e53a-afee-4812-9800-fafa9e3d2d01",
   "metadata": {},
   "outputs": [],
   "source": [
    "# 建立 Transformer 裡 Encoder / Decoder layer 都有使用到的 Feed Forward 元件\n",
    "def point_wise_feed_forward_network(d_model, dff):\n",
    "  \n",
    "  # 此 FFN 對輸入做兩個線性轉換，中間加了一個 ReLU activation func\n",
    "  return tf.keras.Sequential([\n",
    "      tf.keras.layers.Dense(dff, activation='relu'),  # (batch_size, seq_len, dff)\n",
    "      tf.keras.layers.Dense(d_model)  # (batch_size, seq_len, d_model)\n",
    "  ])"
   ]
  },
  {
   "cell_type": "code",
   "execution_count": 36,
   "id": "dba3e59c-a51f-4f77-944d-34a52a56b95c",
   "metadata": {},
   "outputs": [],
   "source": [
    "def point_wise_feed_forward_network(d_model, dff):\n",
    "  \n",
    "  # 此 FFN 對輸入做兩個線性轉換，中間加了一個 ReLU activation func\n",
    "  return tf.keras.Sequential([\n",
    "      tf.keras.layers.Dense(dff, activation='relu'),  # (batch_size, seq_len, dff)\n",
    "      tf.keras.layers.Dense(d_model)  # (batch_size, seq_len, d_model)\n",
    "  ])"
   ]
  },
  {
   "cell_type": "code",
   "execution_count": 37,
   "id": "55adf88d-b725-4c1b-a599-34caa4cff056",
   "metadata": {},
   "outputs": [],
   "source": [
    "# Encoder 裡頭會有 N 個 EncoderLayers，而每個 EncoderLayer 裡又有兩個 sub-layers: MHA & FFN\n",
    "class EncoderLayer(tf.keras.layers.Layer):\n",
    "  # Transformer 論文內預設 dropout rate 為 0.1\n",
    "  def __init__(self, d_model, num_heads, dff, rate=0.1):\n",
    "    super(EncoderLayer, self).__init__()\n",
    "\n",
    "    self.mha = MultiHeadAttention(d_model, num_heads)\n",
    "    self.ffn = point_wise_feed_forward_network(d_model, dff)\n",
    "\n",
    "    # layer norm 很常在 RNN-based 的模型被使用。一個 sub-layer 一個 layer norm\n",
    "    self.layernorm1 = tf.keras.layers.LayerNormalization(epsilon=1e-6)\n",
    "    self.layernorm2 = tf.keras.layers.LayerNormalization(epsilon=1e-6)\n",
    "    \n",
    "    # 一樣，一個 sub-layer 一個 dropout layer\n",
    "    self.dropout1 = tf.keras.layers.Dropout(rate)\n",
    "    self.dropout2 = tf.keras.layers.Dropout(rate)\n",
    "    \n",
    "  # 需要丟入 `training` 參數是因為 dropout 在訓練以及測試的行為有所不同\n",
    "  def call(self, x, training, mask):\n",
    "    # 除了 `attn`，其他張量的 shape 皆為 (batch_size, input_seq_len, d_model)\n",
    "    # attn.shape == (batch_size, num_heads, input_seq_len, input_seq_len)\n",
    "    \n",
    "    # sub-layer 1: MHA\n",
    "    # Encoder 利用注意機制關注自己當前的序列，因此 v, k, q 全部都是自己\n",
    "    # 另外別忘了我們還需要 padding mask 來遮住輸入序列中的 <pad> token\n",
    "    attn_output, attn = self.mha(x, x, x, mask)  \n",
    "    attn_output = self.dropout1(attn_output, training=training) \n",
    "    out1 = self.layernorm1(x + attn_output)  \n",
    "    \n",
    "    # sub-layer 2: FFN\n",
    "    ffn_output = self.ffn(out1) \n",
    "    ffn_output = self.dropout2(ffn_output, training=training)  # 記得 training\n",
    "    out2 = self.layernorm2(out1 + ffn_output)\n",
    "    \n",
    "    return out2"
   ]
  },
  {
   "cell_type": "code",
   "execution_count": 38,
   "id": "a482a64a-36cd-42b4-8786-681161d57fe3",
   "metadata": {},
   "outputs": [
    {
     "name": "stdout",
     "output_type": "stream",
     "text": [
      "inp: tf.Tensor(\n",
      "[[8271  103    9  984 8061 8272    0    0]\n",
      " [8271   16 3991 5315   12 2337 8061 8272]], shape=(2, 8), dtype=int64)\n",
      "--------------------\n",
      "padding_mask: tf.Tensor(\n",
      "[[[[0. 0. 0. 0. 0. 0. 1. 1.]]]\n",
      "\n",
      "\n",
      " [[[0. 0. 0. 0. 0. 0. 0. 0.]]]], shape=(2, 1, 1, 8), dtype=float32)\n",
      "--------------------\n",
      "emb_inp: tf.Tensor(\n",
      "[[[ 0.00731532 -0.03201591  0.03905975  0.04797098]\n",
      "  [-0.0366235  -0.00375736  0.04569234  0.01163111]\n",
      "  [ 0.04726856 -0.03191681 -0.02939991 -0.03378211]\n",
      "  [-0.03652076  0.02725298 -0.02106973 -0.02914258]\n",
      "  [ 0.02684525  0.01733326  0.02097073 -0.02208864]\n",
      "  [-0.01084427  0.00910794 -0.01156554 -0.0071543 ]\n",
      "  [-0.01613613  0.03566057 -0.04537519 -0.01144149]\n",
      "  [-0.01613613  0.03566057 -0.04537519 -0.01144149]]\n",
      "\n",
      " [[ 0.00731532 -0.03201591  0.03905975  0.04797098]\n",
      "  [ 0.02446325 -0.02298675  0.02559366  0.02224514]\n",
      "  [-0.02628883  0.00246524 -0.00510386 -0.01277151]\n",
      "  [ 0.04829365  0.02565838 -0.00990652 -0.04993993]\n",
      "  [ 0.03326495 -0.04427944 -0.04906414 -0.0019776 ]\n",
      "  [-0.02530547  0.01936592 -0.0457485   0.01216144]\n",
      "  [ 0.02684525  0.01733326  0.02097073 -0.02208864]\n",
      "  [-0.01084427  0.00910794 -0.01156554 -0.0071543 ]]], shape=(2, 8, 4), dtype=float32)\n",
      "--------------------\n",
      "enc_out: tf.Tensor(\n",
      "[[[-0.20531583 -1.5479121   0.98820686  0.76502097]\n",
      "  [-1.3655419  -0.32788998  1.3916581   0.30177382]\n",
      "  [ 1.7017401  -0.3453771  -0.4980035  -0.85835946]\n",
      "  [-0.69730145  1.7171546  -0.35976398 -0.6600892 ]\n",
      "  [ 1.0829027   0.59449047 -0.10825968 -1.5691338 ]\n",
      "  [-0.51596975  1.689565   -0.8954083  -0.27818662]\n",
      "  [-0.49356455  1.7070454  -0.8370873  -0.3763936 ]\n",
      "  [-0.49356455  1.7070454  -0.8370873  -0.3763936 ]]\n",
      "\n",
      " [[-0.4478572  -1.3776349   1.2557701   0.5697221 ]\n",
      "  [ 0.9695383  -1.5307994   0.80937386 -0.24811278]\n",
      "  [-0.997461    1.3788644   0.52730453 -0.9087079 ]\n",
      "  [ 0.73581856  1.0817118  -0.34451324 -1.473017  ]\n",
      "  [ 1.6121922  -0.8691101  -0.8013006   0.05821872]\n",
      "  [-0.7732469   1.6953015  -0.6879053  -0.2341493 ]\n",
      "  [ 0.80364627  0.78528625  0.06434785 -1.6532804 ]\n",
      "  [-0.43826914  1.6510108  -0.19001186 -1.0227298 ]]], shape=(2, 8, 4), dtype=float32)\n"
     ]
    }
   ],
   "source": [
    "# 之後可以調的超參數。這邊為了 demo 設小一點\n",
    "d_model = 4\n",
    "num_heads = 2\n",
    "dff = 8\n",
    "\n",
    "# 新建一個使用上述參數的 Encoder Layer\n",
    "enc_layer = EncoderLayer(d_model, num_heads, dff)\n",
    "padding_mask = create_padding_mask(inp)  # 建立一個當前輸入 batch 使用的 padding mask\n",
    "enc_out = enc_layer(emb_inp, training=False, mask=padding_mask)  # (batch_size, seq_len, d_model)\n",
    "\n",
    "print(\"inp:\", inp)\n",
    "print(\"-\" * 20)\n",
    "print(\"padding_mask:\", padding_mask)\n",
    "print(\"-\" * 20)\n",
    "print(\"emb_inp:\", emb_inp)\n",
    "print(\"-\" * 20)\n",
    "print(\"enc_out:\", enc_out)\n",
    "assert emb_inp.shape == enc_out.shape"
   ]
  },
  {
   "cell_type": "code",
   "execution_count": 39,
   "id": "d282ffb6-b7a4-4e6a-a95d-b2682324bea8",
   "metadata": {},
   "outputs": [],
   "source": [
    "# Decoder 裡頭會有 N 個 DecoderLayer，\n",
    "# 而 DecoderLayer 又有三個 sub-layers: 自注意的 MHA, 關注 Encoder 輸出的 MHA & FFN\n",
    "class DecoderLayer(tf.keras.layers.Layer):\n",
    "  def __init__(self, d_model, num_heads, dff, rate=0.1):\n",
    "    super(DecoderLayer, self).__init__()\n",
    "\n",
    "    # 3 個 sub-layers 的主角們\n",
    "    self.mha1 = MultiHeadAttention(d_model, num_heads)\n",
    "    self.mha2 = MultiHeadAttention(d_model, num_heads)\n",
    "    self.ffn = point_wise_feed_forward_network(d_model, dff)\n",
    " \n",
    "    # 定義每個 sub-layer 用的 LayerNorm\n",
    "    self.layernorm1 = tf.keras.layers.LayerNormalization(epsilon=1e-6)\n",
    "    self.layernorm2 = tf.keras.layers.LayerNormalization(epsilon=1e-6)\n",
    "    self.layernorm3 = tf.keras.layers.LayerNormalization(epsilon=1e-6)\n",
    "    \n",
    "    # 定義每個 sub-layer 用的 Dropout\n",
    "    self.dropout1 = tf.keras.layers.Dropout(rate)\n",
    "    self.dropout2 = tf.keras.layers.Dropout(rate)\n",
    "    self.dropout3 = tf.keras.layers.Dropout(rate)\n",
    "    \n",
    "    \n",
    "  def call(self, x, enc_output, training, \n",
    "           combined_mask, inp_padding_mask):\n",
    "    # 所有 sub-layers 的主要輸出皆為 (batch_size, target_seq_len, d_model)\n",
    "    # enc_output 為 Encoder 輸出序列，shape 為 (batch_size, input_seq_len, d_model)\n",
    "    # attn_weights_block_1 則為 (batch_size, num_heads, target_seq_len, target_seq_len)\n",
    "    # attn_weights_block_2 則為 (batch_size, num_heads, target_seq_len, input_seq_len)\n",
    "\n",
    "    # sub-layer 1: Decoder layer 自己對輸出序列做注意力。\n",
    "    # 我們同時需要 look ahead mask 以及輸出序列的 padding mask \n",
    "    # 來避免前面已生成的子詞關注到未來的子詞以及 <pad>\n",
    "    attn1, attn_weights_block1 = self.mha1(x, x, x, combined_mask)\n",
    "    attn1 = self.dropout1(attn1, training=training)\n",
    "    out1 = self.layernorm1(attn1 + x)\n",
    "    \n",
    "    # sub-layer 2: Decoder layer 關注 Encoder 的最後輸出\n",
    "    # 記得我們一樣需要對 Encoder 的輸出套用 padding mask 避免關注到 <pad>\n",
    "    attn2, attn_weights_block2 = self.mha2(\n",
    "        enc_output, enc_output, out1, inp_padding_mask)  # (batch_size, target_seq_len, d_model)\n",
    "    attn2 = self.dropout2(attn2, training=training)\n",
    "    out2 = self.layernorm2(attn2 + out1)  # (batch_size, target_seq_len, d_model)\n",
    "    \n",
    "    # sub-layer 3: FFN 部分跟 Encoder layer 完全一樣\n",
    "    ffn_output = self.ffn(out2)  # (batch_size, target_seq_len, d_model)\n",
    "\n",
    "    ffn_output = self.dropout3(ffn_output, training=training)\n",
    "    out3 = self.layernorm3(ffn_output + out2)  # (batch_size, target_seq_len, d_model)\n",
    "    \n",
    "    # 除了主要輸出 `out3` 以外，輸出 multi-head 注意權重方便之後理解模型內部狀況\n",
    "    return out3, attn_weights_block1, attn_weights_block2"
   ]
  },
  {
   "cell_type": "code",
   "execution_count": 40,
   "id": "ffefeae5-16c6-4ce7-9a32-5d2ee5969619",
   "metadata": {},
   "outputs": [
    {
     "name": "stdout",
     "output_type": "stream",
     "text": [
      "emb_tar: tf.Tensor(\n",
      "[[[ 0.03018809  0.02772966  0.033124    0.03716457]\n",
      "  [ 0.01822342  0.04289198 -0.02956367  0.04136899]\n",
      "  [ 0.02675866  0.00087608 -0.02886534  0.01634819]\n",
      "  [-0.01838303  0.03234065 -0.001836   -0.03319644]\n",
      "  [ 0.00582308  0.01177128  0.00924579  0.03551194]\n",
      "  [-0.00516673  0.00119359 -0.00121345 -0.04757861]\n",
      "  [-0.03111359 -0.00290207  0.02456255  0.04642658]\n",
      "  [-0.01079718  0.03529638 -0.02600555  0.01229019]\n",
      "  [-0.01079718  0.03529638 -0.02600555  0.01229019]\n",
      "  [-0.01079718  0.03529638 -0.02600555  0.01229019]]\n",
      "\n",
      " [[ 0.03018809  0.02772966  0.033124    0.03716457]\n",
      "  [-0.02203496  0.01723207 -0.00108542 -0.04882553]\n",
      "  [-0.02799409 -0.02210044 -0.03539402 -0.01938089]\n",
      "  [-0.0165637  -0.03534932  0.00263242 -0.00294723]\n",
      "  [-0.04938749  0.03874001  0.00227449 -0.00210779]\n",
      "  [ 0.04323832 -0.02986794  0.010677   -0.00137632]\n",
      "  [ 0.03407819  0.02498594 -0.04496486 -0.01946827]\n",
      "  [ 0.00234399 -0.0047228   0.04491762  0.04980611]\n",
      "  [-0.00516673  0.00119359 -0.00121345 -0.04757861]\n",
      "  [-0.03111359 -0.00290207  0.02456255  0.04642658]]], shape=(2, 10, 4), dtype=float32)\n",
      "--------------------\n",
      "look_ahead_mask tf.Tensor(\n",
      "[[0. 1. 1. 1. 1. 1. 1. 1. 1. 1.]\n",
      " [0. 0. 1. 1. 1. 1. 1. 1. 1. 1.]\n",
      " [0. 0. 0. 1. 1. 1. 1. 1. 1. 1.]\n",
      " [0. 0. 0. 0. 1. 1. 1. 1. 1. 1.]\n",
      " [0. 0. 0. 0. 0. 1. 1. 1. 1. 1.]\n",
      " [0. 0. 0. 0. 0. 0. 1. 1. 1. 1.]\n",
      " [0. 0. 0. 0. 0. 0. 0. 1. 1. 1.]\n",
      " [0. 0. 0. 0. 0. 0. 0. 0. 1. 1.]\n",
      " [0. 0. 0. 0. 0. 0. 0. 0. 0. 1.]\n",
      " [0. 0. 0. 0. 0. 0. 0. 0. 0. 0.]], shape=(10, 10), dtype=float32)\n"
     ]
    }
   ],
   "source": [
    "# 建立一個 2 維矩陣，維度為 (size, size)，\n",
    "# 其遮罩為一個右上角的三角形\n",
    "def create_look_ahead_mask(size):\n",
    "  mask = 1 - tf.linalg.band_part(tf.ones((size, size)), -1, 0)\n",
    "  return mask  # (seq_len, seq_len)\n",
    "\n",
    "seq_len = emb_tar.shape[1] # 注意這次我們用中文的詞嵌入張量 `emb_tar`\n",
    "look_ahead_mask = create_look_ahead_mask(seq_len)\n",
    "print(\"emb_tar:\", emb_tar)\n",
    "print(\"-\" * 20)\n",
    "print(\"look_ahead_mask\", look_ahead_mask)"
   ]
  },
  {
   "cell_type": "code",
   "execution_count": 41,
   "id": "6d3299d9-02b4-49f0-afd9-59695ae77332",
   "metadata": {},
   "outputs": [
    {
     "name": "stdout",
     "output_type": "stream",
     "text": [
      "tar: tf.Tensor(\n",
      "[[4800   10  237   82   27    3 4801    0    0    0]\n",
      " [4800  166  490  406  193   14    7  552    3 4801]], shape=(2, 10), dtype=int64)\n",
      "--------------------\n",
      "tar_padding_mask: tf.Tensor(\n",
      "[[[[0. 0. 0. 0. 0. 0. 0. 1. 1. 1.]]]\n",
      "\n",
      "\n",
      " [[[0. 0. 0. 0. 0. 0. 0. 0. 0. 0.]]]], shape=(2, 1, 1, 10), dtype=float32)\n",
      "--------------------\n",
      "look_ahead_mask: tf.Tensor(\n",
      "[[0. 1. 1. 1. 1. 1. 1. 1. 1. 1.]\n",
      " [0. 0. 1. 1. 1. 1. 1. 1. 1. 1.]\n",
      " [0. 0. 0. 1. 1. 1. 1. 1. 1. 1.]\n",
      " [0. 0. 0. 0. 1. 1. 1. 1. 1. 1.]\n",
      " [0. 0. 0. 0. 0. 1. 1. 1. 1. 1.]\n",
      " [0. 0. 0. 0. 0. 0. 1. 1. 1. 1.]\n",
      " [0. 0. 0. 0. 0. 0. 0. 1. 1. 1.]\n",
      " [0. 0. 0. 0. 0. 0. 0. 0. 1. 1.]\n",
      " [0. 0. 0. 0. 0. 0. 0. 0. 0. 1.]\n",
      " [0. 0. 0. 0. 0. 0. 0. 0. 0. 0.]], shape=(10, 10), dtype=float32)\n",
      "--------------------\n",
      "combined_mask: tf.Tensor(\n",
      "[[[[0. 1. 1. 1. 1. 1. 1. 1. 1. 1.]\n",
      "   [0. 0. 1. 1. 1. 1. 1. 1. 1. 1.]\n",
      "   [0. 0. 0. 1. 1. 1. 1. 1. 1. 1.]\n",
      "   [0. 0. 0. 0. 1. 1. 1. 1. 1. 1.]\n",
      "   [0. 0. 0. 0. 0. 1. 1. 1. 1. 1.]\n",
      "   [0. 0. 0. 0. 0. 0. 1. 1. 1. 1.]\n",
      "   [0. 0. 0. 0. 0. 0. 0. 1. 1. 1.]\n",
      "   [0. 0. 0. 0. 0. 0. 0. 1. 1. 1.]\n",
      "   [0. 0. 0. 0. 0. 0. 0. 1. 1. 1.]\n",
      "   [0. 0. 0. 0. 0. 0. 0. 1. 1. 1.]]]\n",
      "\n",
      "\n",
      " [[[0. 1. 1. 1. 1. 1. 1. 1. 1. 1.]\n",
      "   [0. 0. 1. 1. 1. 1. 1. 1. 1. 1.]\n",
      "   [0. 0. 0. 1. 1. 1. 1. 1. 1. 1.]\n",
      "   [0. 0. 0. 0. 1. 1. 1. 1. 1. 1.]\n",
      "   [0. 0. 0. 0. 0. 1. 1. 1. 1. 1.]\n",
      "   [0. 0. 0. 0. 0. 0. 1. 1. 1. 1.]\n",
      "   [0. 0. 0. 0. 0. 0. 0. 1. 1. 1.]\n",
      "   [0. 0. 0. 0. 0. 0. 0. 0. 1. 1.]\n",
      "   [0. 0. 0. 0. 0. 0. 0. 0. 0. 1.]\n",
      "   [0. 0. 0. 0. 0. 0. 0. 0. 0. 0.]]]], shape=(2, 1, 10, 10), dtype=float32)\n"
     ]
    }
   ],
   "source": [
    "tar_padding_mask = create_padding_mask(tar)\n",
    "look_ahead_mask = create_look_ahead_mask(tar.shape[-1])\n",
    "combined_mask = tf.maximum(tar_padding_mask, look_ahead_mask)\n",
    "\n",
    "print(\"tar:\", tar)\n",
    "print(\"-\" * 20)\n",
    "print(\"tar_padding_mask:\", tar_padding_mask)\n",
    "print(\"-\" * 20)\n",
    "print(\"look_ahead_mask:\", look_ahead_mask)\n",
    "print(\"-\" * 20)\n",
    "print(\"combined_mask:\", combined_mask)"
   ]
  },
  {
   "cell_type": "code",
   "execution_count": 42,
   "id": "2c04b0df-7bb9-406e-b332-abc66c29fff4",
   "metadata": {},
   "outputs": [
    {
     "name": "stdout",
     "output_type": "stream",
     "text": [
      "emb_tar: tf.Tensor(\n",
      "[[[ 0.03018809  0.02772966  0.033124    0.03716457]\n",
      "  [ 0.01822342  0.04289198 -0.02956367  0.04136899]\n",
      "  [ 0.02675866  0.00087608 -0.02886534  0.01634819]\n",
      "  [-0.01838303  0.03234065 -0.001836   -0.03319644]\n",
      "  [ 0.00582308  0.01177128  0.00924579  0.03551194]\n",
      "  [-0.00516673  0.00119359 -0.00121345 -0.04757861]\n",
      "  [-0.03111359 -0.00290207  0.02456255  0.04642658]\n",
      "  [-0.01079718  0.03529638 -0.02600555  0.01229019]\n",
      "  [-0.01079718  0.03529638 -0.02600555  0.01229019]\n",
      "  [-0.01079718  0.03529638 -0.02600555  0.01229019]]\n",
      "\n",
      " [[ 0.03018809  0.02772966  0.033124    0.03716457]\n",
      "  [-0.02203496  0.01723207 -0.00108542 -0.04882553]\n",
      "  [-0.02799409 -0.02210044 -0.03539402 -0.01938089]\n",
      "  [-0.0165637  -0.03534932  0.00263242 -0.00294723]\n",
      "  [-0.04938749  0.03874001  0.00227449 -0.00210779]\n",
      "  [ 0.04323832 -0.02986794  0.010677   -0.00137632]\n",
      "  [ 0.03407819  0.02498594 -0.04496486 -0.01946827]\n",
      "  [ 0.00234399 -0.0047228   0.04491762  0.04980611]\n",
      "  [-0.00516673  0.00119359 -0.00121345 -0.04757861]\n",
      "  [-0.03111359 -0.00290207  0.02456255  0.04642658]]], shape=(2, 10, 4), dtype=float32)\n",
      "--------------------\n",
      "enc_out: tf.Tensor(\n",
      "[[[-0.20531583 -1.5479121   0.98820686  0.76502097]\n",
      "  [-1.3655419  -0.32788998  1.3916581   0.30177382]\n",
      "  [ 1.7017401  -0.3453771  -0.4980035  -0.85835946]\n",
      "  [-0.69730145  1.7171546  -0.35976398 -0.6600892 ]\n",
      "  [ 1.0829027   0.59449047 -0.10825968 -1.5691338 ]\n",
      "  [-0.51596975  1.689565   -0.8954083  -0.27818662]\n",
      "  [-0.49356455  1.7070454  -0.8370873  -0.3763936 ]\n",
      "  [-0.49356455  1.7070454  -0.8370873  -0.3763936 ]]\n",
      "\n",
      " [[-0.4478572  -1.3776349   1.2557701   0.5697221 ]\n",
      "  [ 0.9695383  -1.5307994   0.80937386 -0.24811278]\n",
      "  [-0.997461    1.3788644   0.52730453 -0.9087079 ]\n",
      "  [ 0.73581856  1.0817118  -0.34451324 -1.473017  ]\n",
      "  [ 1.6121922  -0.8691101  -0.8013006   0.05821872]\n",
      "  [-0.7732469   1.6953015  -0.6879053  -0.2341493 ]\n",
      "  [ 0.80364627  0.78528625  0.06434785 -1.6532804 ]\n",
      "  [-0.43826914  1.6510108  -0.19001186 -1.0227298 ]]], shape=(2, 8, 4), dtype=float32)\n",
      "--------------------\n",
      "dec_out: tf.Tensor(\n",
      "[[[-1.2276118  -0.66868246  0.59610736  1.300187  ]\n",
      "  [ 0.1980586  -1.6562618   0.4512645   1.0069386 ]\n",
      "  [ 0.67173606 -1.6899984   0.21396905  0.8042932 ]\n",
      "  [-0.8881761   1.1124132  -1.0991684   0.8749314 ]\n",
      "  [-0.7408554  -1.1947882   0.69373035  1.2419132 ]\n",
      "  [-0.10314342  1.2871429  -1.4952421   0.3112426 ]\n",
      "  [-1.2735963  -0.67316496  0.85119516  1.0955663 ]\n",
      "  [-1.6100187   0.14682354  0.33422476  1.1289704 ]\n",
      "  [-1.6100187   0.14682354  0.33422476  1.1289704 ]\n",
      "  [-1.6100187   0.14682354  0.33422476  1.1289704 ]]\n",
      "\n",
      " [[-1.6028659   0.10979048  0.3565843   1.1364911 ]\n",
      "  [-0.6066951   1.2285421  -1.2930781   0.67123115]\n",
      "  [ 1.4386592   0.39204392 -0.6908278  -1.1398754 ]\n",
      "  [-1.6044247   0.05306976  0.444278    1.1070771 ]\n",
      "  [-1.5436223   0.37013638 -0.04241974  1.2159058 ]\n",
      "  [ 1.4990326   0.23399341 -1.1799258  -0.55310035]\n",
      "  [ 1.6194179  -0.05057949 -0.5158138  -1.0530246 ]\n",
      "  [-1.5480695  -0.16238222  0.616177    1.0942745 ]\n",
      "  [-0.33434787  1.2794209  -1.42246     0.477387  ]\n",
      "  [-1.3650042  -0.5501692   0.9494891   0.9656842 ]]], shape=(2, 10, 4), dtype=float32)\n",
      "--------------------\n",
      "dec_self_attn_weights.shape: (2, 2, 10, 10)\n",
      "dec_enc_attn_weights: (2, 2, 10, 8)\n"
     ]
    }
   ],
   "source": [
    "# 超參數\n",
    "d_model = 4\n",
    "num_heads = 2\n",
    "dff = 8\n",
    "dec_layer = DecoderLayer(d_model, num_heads, dff)\n",
    "\n",
    "# 來源、目標語言的序列都需要 padding mask\n",
    "inp_padding_mask = create_padding_mask(inp)\n",
    "tar_padding_mask = create_padding_mask(tar)\n",
    "\n",
    "# masked MHA 用的遮罩，把 padding 跟未來子詞都蓋住\n",
    "look_ahead_mask = create_look_ahead_mask(tar.shape[-1])\n",
    "combined_mask = tf.maximum(tar_padding_mask, look_ahead_mask)\n",
    "\n",
    "# 實際初始一個 decoder layer 並做 3 個 sub-layers 的計算\n",
    "dec_out, dec_self_attn_weights, dec_enc_attn_weights = dec_layer(\n",
    "    emb_tar, enc_out, False, combined_mask, inp_padding_mask)\n",
    "\n",
    "print(\"emb_tar:\", emb_tar)\n",
    "print(\"-\" * 20)\n",
    "print(\"enc_out:\", enc_out)\n",
    "print(\"-\" * 20)\n",
    "print(\"dec_out:\", dec_out)\n",
    "assert emb_tar.shape == dec_out.shape\n",
    "print(\"-\" * 20)\n",
    "print(\"dec_self_attn_weights.shape:\", dec_self_attn_weights.shape)\n",
    "print(\"dec_enc_attn_weights:\", dec_enc_attn_weights.shape)"
   ]
  },
  {
   "cell_type": "code",
   "execution_count": 43,
   "id": "5fc01967-65b0-4278-80f8-683bd57e5639",
   "metadata": {},
   "outputs": [
    {
     "data": {
      "text/plain": [
       "<tf.Tensor: shape=(1, 50, 512), dtype=float32, numpy=\n",
       "array([[[ 0.        ,  0.        ,  0.        , ...,  1.        ,\n",
       "          1.        ,  1.        ],\n",
       "        [ 0.84147096,  0.8218562 ,  0.8019618 , ...,  1.        ,\n",
       "          1.        ,  1.        ],\n",
       "        [ 0.9092974 ,  0.9364147 ,  0.95814437, ...,  1.        ,\n",
       "          1.        ,  1.        ],\n",
       "        ...,\n",
       "        [ 0.12357312,  0.97718984, -0.24295525, ...,  0.9999863 ,\n",
       "          0.99998724,  0.99998814],\n",
       "        [-0.76825464,  0.7312359 ,  0.63279754, ...,  0.9999857 ,\n",
       "          0.9999867 ,  0.9999876 ],\n",
       "        [-0.95375264, -0.14402692,  0.99899054, ...,  0.9999851 ,\n",
       "          0.9999861 ,  0.9999871 ]]], dtype=float32)>"
      ]
     },
     "execution_count": 43,
     "metadata": {},
     "output_type": "execute_result"
    }
   ],
   "source": [
    "# 以下直接參考 TensorFlow 官方 tutorial \n",
    "def get_angles(pos, i, d_model):\n",
    "  angle_rates = 1 / np.power(10000, (2 * (i//2)) / np.float32(d_model))\n",
    "  return pos * angle_rates\n",
    "\n",
    "def positional_encoding(position, d_model):\n",
    "  angle_rads = get_angles(np.arange(position)[:, np.newaxis],\n",
    "                          np.arange(d_model)[np.newaxis, :],\n",
    "                          d_model)\n",
    "  \n",
    "  # apply sin to even indices in the array; 2i\n",
    "  sines = np.sin(angle_rads[:, 0::2])\n",
    "  \n",
    "  # apply cos to odd indices in the array; 2i+1\n",
    "  cosines = np.cos(angle_rads[:, 1::2])\n",
    "  \n",
    "  pos_encoding = np.concatenate([sines, cosines], axis=-1)\n",
    "  \n",
    "  pos_encoding = pos_encoding[np.newaxis, ...]\n",
    "    \n",
    "  return tf.cast(pos_encoding, dtype=tf.float32)\n",
    "\n",
    "\n",
    "seq_len = 50\n",
    "d_model = 512\n",
    "\n",
    "pos_encoding = positional_encoding(seq_len, d_model)\n",
    "pos_encoding"
   ]
  },
  {
   "cell_type": "code",
   "execution_count": 44,
   "id": "d110557f-80fb-4b98-926c-460fb655b3b2",
   "metadata": {},
   "outputs": [
    {
     "data": {
      "image/png": "[encoded data removed]",
      "text/plain": [
       "<Figure size 640x480 with 2 Axes>"
      ]
     },
     "metadata": {},
     "output_type": "display_data"
    }
   ],
   "source": [
    "plt.pcolormesh(pos_encoding[0], cmap='RdBu')\n",
    "plt.xlabel('d_model')\n",
    "plt.xlim((0, 512))\n",
    "plt.ylabel('Position')\n",
    "plt.colorbar()\n",
    "plt.show()"
   ]
  },
  {
   "cell_type": "code",
   "execution_count": 45,
   "id": "a1fb31ed-7379-4538-9b0f-fc371ef51c01",
   "metadata": {},
   "outputs": [],
   "source": [
    "class Encoder(tf.keras.layers.Layer):\n",
    "  # Encoder 的初始參數除了本來就要給 EncoderLayer 的參數還多了：\n",
    "  # - num_layers: 決定要有幾個 EncoderLayers, 前面影片中的 `N`\n",
    "  # - dff: FFN 中間層的維度\n",
    "  # - input_vocab_size: 用來把索引轉成詞嵌入向量\n",
    "  def __init__(self, num_layers, d_model, num_heads, dff, input_vocab_size, \n",
    "               rate=0.1):\n",
    "    super(Encoder, self).__init__()\n",
    "\n",
    "    self.d_model = d_model\n",
    "    \n",
    "    self.embedding = tf.keras.layers.Embedding(input_vocab_size, d_model)\n",
    "    self.pos_encoding = positional_encoding(input_vocab_size, self.d_model)\n",
    "    \n",
    "    # 建立 `num_layers` 個 EncoderLayers\n",
    "    self.enc_layers = [EncoderLayer(d_model, num_heads, dff, rate) \n",
    "                       for _ in range(num_layers)]\n",
    "\n",
    "    self.dropout = tf.keras.layers.Dropout(rate)\n",
    "        \n",
    "  def call(self, x, training, mask):\n",
    "    # 輸入的 x.shape == (batch_size, input_seq_len)\n",
    "    # 以下各 layer 的輸出皆為 (batch_size, input_seq_len, d_model)\n",
    "    input_seq_len = tf.shape(x)[1]\n",
    "    \n",
    "    # 將 2 維的索引序列轉成 3 維的詞嵌入張量，並依照論文乘上 sqrt(d_model)\n",
    "    # 再加上對應長度的位置編碼\n",
    "    x = self.embedding(x)\n",
    "    x *= tf.math.sqrt(tf.cast(self.d_model, tf.float32))\n",
    "    x += self.pos_encoding[:, :input_seq_len, :]\n",
    "\n",
    "    # 對 embedding 跟位置編碼的總合做 regularization\n",
    "    # 這在 Decoder 也會做\n",
    "    x = self.dropout(x, training=training)\n",
    "    \n",
    "    # 通過 N 個 EncoderLayer 做編碼\n",
    "    for i, enc_layer in enumerate(self.enc_layers):\n",
    "      x = enc_layer(x, training, mask)\n",
    "      # 以下只是用來 demo EncoderLayer outputs\n",
    "      #print('-' * 20)\n",
    "      #print(f\"EncoderLayer {i + 1}'s output:\", x)\n",
    "      \n",
    "    \n",
    "    return x "
   ]
  },
  {
   "cell_type": "code",
   "execution_count": 46,
   "id": "70ef11e3-56f9-42b1-890a-4b09ba63042a",
   "metadata": {},
   "outputs": [
    {
     "name": "stdout",
     "output_type": "stream",
     "text": [
      "inp: tf.Tensor(\n",
      "[[8271  103    9  984 8061 8272    0    0]\n",
      " [8271   16 3991 5315   12 2337 8061 8272]], shape=(2, 8), dtype=int64)\n",
      "--------------------\n",
      "enc_out: tf.Tensor(\n",
      "[[[-1.4648131  -0.11320687  1.3351003   0.24291962]\n",
      "  [-0.9255852  -0.91557753  1.4728795   0.3682833 ]\n",
      "  [-0.7573248   1.62052    -0.89409935  0.03090426]\n",
      "  [-1.1441948   0.85485697 -0.83466107  1.1239989 ]\n",
      "  [-1.6029891   0.27404878  0.17852905  1.1504114 ]\n",
      "  [-1.6315976  -0.00368994  0.79779077  0.83749694]\n",
      "  [-1.5093904  -0.10300962  1.2596364   0.35276347]\n",
      "  [-1.073409   -0.39686096  1.6321981  -0.16192819]]\n",
      "\n",
      " [[-1.4843533  -0.09397036  1.3098862   0.2684374 ]\n",
      "  [-0.9936253  -0.62149477  1.620623   -0.00550294]\n",
      "  [-0.5442625   1.6630844  -0.9544053  -0.16441658]\n",
      "  [-1.2208532   0.7017982  -0.7105969   1.2296519 ]\n",
      "  [-1.5805819   0.25125846  0.13784358  1.19148   ]\n",
      "  [-1.6469891   0.05610324  0.8924396   0.69844615]\n",
      "  [-1.5556922   0.00139032  1.2083639   0.34593803]\n",
      "  [-1.3143182  -0.4373181   1.3988868   0.35274953]]], shape=(2, 8, 4), dtype=float32)\n"
     ]
    }
   ],
   "source": [
    "# 超參數\n",
    "num_layers = 2 # 2 層的 Encoder\n",
    "d_model = 4\n",
    "num_heads = 2\n",
    "dff = 8\n",
    "input_vocab_size = subword_encoder_en.vocab_size + 2 # 記得加上 <start>, <end>\n",
    "\n",
    "# 初始化一個 Encoder\n",
    "encoder = Encoder(num_layers, d_model, num_heads, dff, input_vocab_size)\n",
    "\n",
    "# 將 2 維的索引序列丟入 Encoder 做編碼\n",
    "enc_out = encoder(inp, training=False, mask=None)\n",
    "print(\"inp:\", inp)\n",
    "print(\"-\" * 20)\n",
    "print(\"enc_out:\", enc_out)"
   ]
  },
  {
   "cell_type": "code",
   "execution_count": 47,
   "id": "c2a7dd9b-a855-4622-9c5f-d23e484dee36",
   "metadata": {},
   "outputs": [],
   "source": [
    "class Decoder(tf.keras.layers.Layer):\n",
    "  # 初始參數跟 Encoder 只差在用 `target_vocab_size` 而非 `inp_vocab_size`\n",
    "  def __init__(self, num_layers, d_model, num_heads, dff, target_vocab_size, \n",
    "               rate=0.1):\n",
    "    super(Decoder, self).__init__()\n",
    "\n",
    "    self.d_model = d_model\n",
    "    \n",
    "    # 為中文（目標語言）建立詞嵌入層\n",
    "    self.embedding = tf.keras.layers.Embedding(target_vocab_size, d_model)\n",
    "    self.pos_encoding = positional_encoding(target_vocab_size, self.d_model)\n",
    "    \n",
    "    self.dec_layers = [DecoderLayer(d_model, num_heads, dff, rate) \n",
    "                       for _ in range(num_layers)]\n",
    "    self.dropout = tf.keras.layers.Dropout(rate)\n",
    "  \n",
    "  # 呼叫時的參數跟 DecoderLayer 一模一樣\n",
    "  def call(self, x, enc_output, training, \n",
    "           combined_mask, inp_padding_mask):\n",
    "    \n",
    "    tar_seq_len = tf.shape(x)[1]\n",
    "    attention_weights = {}  # 用來存放每個 Decoder layer 的注意權重\n",
    "    \n",
    "    # 這邊跟 Encoder 做的事情完全一樣\n",
    "    x = self.embedding(x)  # (batch_size, tar_seq_len, d_model)\n",
    "    x *= tf.math.sqrt(tf.cast(self.d_model, tf.float32))\n",
    "    x += self.pos_encoding[:, :tar_seq_len, :]\n",
    "    x = self.dropout(x, training=training)\n",
    "\n",
    "    \n",
    "    for i, dec_layer in enumerate(self.dec_layers):\n",
    "      x, block1, block2 = dec_layer(x, enc_output, training,\n",
    "                                    combined_mask, inp_padding_mask)\n",
    "      \n",
    "      # 將從每個 Decoder layer 取得的注意權重全部存下來回傳，方便我們觀察\n",
    "      attention_weights['decoder_layer{}_block1'.format(i + 1)] = block1\n",
    "      attention_weights['decoder_layer{}_block2'.format(i + 1)] = block2\n",
    "    \n",
    "    # x.shape == (batch_size, tar_seq_len, d_model)\n",
    "    return x, attention_weights"
   ]
  },
  {
   "cell_type": "code",
   "execution_count": 48,
   "id": "95167ef0-93e9-468d-819a-a4a52dd7fcfe",
   "metadata": {},
   "outputs": [
    {
     "name": "stdout",
     "output_type": "stream",
     "text": [
      "tar: tf.Tensor(\n",
      "[[4800   10  237   82   27    3 4801    0    0    0]\n",
      " [4800  166  490  406  193   14    7  552    3 4801]], shape=(2, 10), dtype=int64)\n",
      "--------------------\n",
      "combined_mask: tf.Tensor(\n",
      "[[[[0. 1. 1. 1. 1. 1. 1. 1. 1. 1.]\n",
      "   [0. 0. 1. 1. 1. 1. 1. 1. 1. 1.]\n",
      "   [0. 0. 0. 1. 1. 1. 1. 1. 1. 1.]\n",
      "   [0. 0. 0. 0. 1. 1. 1. 1. 1. 1.]\n",
      "   [0. 0. 0. 0. 0. 1. 1. 1. 1. 1.]\n",
      "   [0. 0. 0. 0. 0. 0. 1. 1. 1. 1.]\n",
      "   [0. 0. 0. 0. 0. 0. 0. 1. 1. 1.]\n",
      "   [0. 0. 0. 0. 0. 0. 0. 1. 1. 1.]\n",
      "   [0. 0. 0. 0. 0. 0. 0. 1. 1. 1.]\n",
      "   [0. 0. 0. 0. 0. 0. 0. 1. 1. 1.]]]\n",
      "\n",
      "\n",
      " [[[0. 1. 1. 1. 1. 1. 1. 1. 1. 1.]\n",
      "   [0. 0. 1. 1. 1. 1. 1. 1. 1. 1.]\n",
      "   [0. 0. 0. 1. 1. 1. 1. 1. 1. 1.]\n",
      "   [0. 0. 0. 0. 1. 1. 1. 1. 1. 1.]\n",
      "   [0. 0. 0. 0. 0. 1. 1. 1. 1. 1.]\n",
      "   [0. 0. 0. 0. 0. 0. 1. 1. 1. 1.]\n",
      "   [0. 0. 0. 0. 0. 0. 0. 1. 1. 1.]\n",
      "   [0. 0. 0. 0. 0. 0. 0. 0. 1. 1.]\n",
      "   [0. 0. 0. 0. 0. 0. 0. 0. 0. 1.]\n",
      "   [0. 0. 0. 0. 0. 0. 0. 0. 0. 0.]]]], shape=(2, 1, 10, 10), dtype=float32)\n",
      "--------------------\n",
      "enc_out: tf.Tensor(\n",
      "[[[-1.4648131  -0.11320687  1.3351003   0.24291962]\n",
      "  [-0.9255852  -0.91557753  1.4728795   0.3682833 ]\n",
      "  [-0.7573248   1.62052    -0.89409935  0.03090426]\n",
      "  [-1.1441948   0.85485697 -0.83466107  1.1239989 ]\n",
      "  [-1.6029891   0.27404878  0.17852905  1.1504114 ]\n",
      "  [-1.6315976  -0.00368994  0.79779077  0.83749694]\n",
      "  [-1.5093904  -0.10300962  1.2596364   0.35276347]\n",
      "  [-1.073409   -0.39686096  1.6321981  -0.16192819]]\n",
      "\n",
      " [[-1.4843533  -0.09397036  1.3098862   0.2684374 ]\n",
      "  [-0.9936253  -0.62149477  1.620623   -0.00550294]\n",
      "  [-0.5442625   1.6630844  -0.9544053  -0.16441658]\n",
      "  [-1.2208532   0.7017982  -0.7105969   1.2296519 ]\n",
      "  [-1.5805819   0.25125846  0.13784358  1.19148   ]\n",
      "  [-1.6469891   0.05610324  0.8924396   0.69844615]\n",
      "  [-1.5556922   0.00139032  1.2083639   0.34593803]\n",
      "  [-1.3143182  -0.4373181   1.3988868   0.35274953]]], shape=(2, 8, 4), dtype=float32)\n",
      "--------------------\n",
      "inp_padding_mask: tf.Tensor(\n",
      "[[[[0. 0. 0. 0. 0. 0. 1. 1.]]]\n",
      "\n",
      "\n",
      " [[[0. 0. 0. 0. 0. 0. 0. 0.]]]], shape=(2, 1, 1, 8), dtype=float32)\n",
      "--------------------\n",
      "dec_out: tf.Tensor(\n",
      "[[[ 0.59837437 -1.2007799  -0.70344317  1.3058486 ]\n",
      "  [ 0.661607   -1.1605554  -0.77300084  1.271949  ]\n",
      "  [ 0.69426006 -0.88198537 -1.0728595   1.2605847 ]\n",
      "  [ 0.70051694 -0.43932554 -1.4116411   1.1504496 ]\n",
      "  [ 0.46488535 -0.32730603 -1.4229102   1.2853309 ]\n",
      "  [ 0.25032243 -0.7829301  -0.995148    1.5277555 ]\n",
      "  [ 0.5869834  -1.0848192  -0.8361383   1.3339744 ]\n",
      "  [ 0.8129031  -1.0685711  -0.91251653  1.1681844 ]\n",
      "  [ 0.8106224  -0.9471286  -1.0354946   1.1720009 ]\n",
      "  [ 0.7357993  -0.6988216  -1.2370044   1.2000268 ]]\n",
      "\n",
      " [[ 0.8061121  -1.2102901  -0.7475684   1.1517464 ]\n",
      "  [ 0.91979265 -1.1305361  -0.8573484   1.0680919 ]\n",
      "  [ 0.9710724  -0.91712236 -1.0792216   1.0252715 ]\n",
      "  [ 0.98785794 -0.5023656  -1.3946813   0.909189  ]\n",
      "  [ 0.74931234 -0.35313874 -1.4699641   1.0737906 ]\n",
      "  [ 0.48440492 -0.80674934 -1.0762751   1.3986195 ]\n",
      "  [ 0.8258295  -1.0834138  -0.8985932   1.1561776 ]\n",
      "  [ 1.0815825  -1.0551848  -0.9395926   0.913195  ]\n",
      "  [ 1.0905243  -0.954509   -1.0402254   0.9042101 ]\n",
      "  [ 1.0241189  -0.6169955  -1.3188233   0.91169995]]], shape=(2, 10, 4), dtype=float32)\n",
      "--------------------\n",
      "decoder_layer1_block1.shape: (2, 2, 10, 10)\n",
      "decoder_layer1_block2.shape: (2, 2, 10, 8)\n",
      "decoder_layer2_block1.shape: (2, 2, 10, 10)\n",
      "decoder_layer2_block2.shape: (2, 2, 10, 8)\n"
     ]
    }
   ],
   "source": [
    "# 超參數\n",
    "num_layers = 2 # 2 層的 Decoder\n",
    "d_model = 4\n",
    "num_heads = 2\n",
    "dff = 8\n",
    "target_vocab_size = subword_encoder_zh.vocab_size + 2 # 記得加上 <start>, <end>\n",
    "\n",
    "# 遮罩\n",
    "inp_padding_mask = create_padding_mask(inp)\n",
    "tar_padding_mask = create_padding_mask(tar)\n",
    "look_ahead_mask = create_look_ahead_mask(tar.shape[1])\n",
    "combined_mask = tf.math.maximum(tar_padding_mask, look_ahead_mask)\n",
    "\n",
    "# 初始化一個 Decoder\n",
    "decoder = Decoder(num_layers, d_model, num_heads, dff, target_vocab_size)\n",
    "\n",
    "# 將 2 維的索引序列以及遮罩丟入 Decoder\n",
    "print(\"tar:\", tar)\n",
    "print(\"-\" * 20)\n",
    "print(\"combined_mask:\", combined_mask)\n",
    "print(\"-\" * 20)\n",
    "print(\"enc_out:\", enc_out)\n",
    "print(\"-\" * 20)\n",
    "print(\"inp_padding_mask:\", inp_padding_mask)\n",
    "print(\"-\" * 20)\n",
    "dec_out, attn = decoder(tar, enc_out, training=False, \n",
    "                        combined_mask=combined_mask,\n",
    "                        inp_padding_mask=inp_padding_mask)\n",
    "print(\"dec_out:\", dec_out)\n",
    "print(\"-\" * 20)\n",
    "for block_name, attn_weights in attn.items():\n",
    "  print(f\"{block_name}.shape: {attn_weights.shape}\")"
   ]
  },
  {
   "cell_type": "code",
   "execution_count": 49,
   "id": "f9724e0b-0f19-486e-9fc0-0963f8d4bb08",
   "metadata": {},
   "outputs": [],
   "source": [
    "# Transformer 之上已經沒有其他 layers 了，我們使用 tf.keras.Model 建立一個模型\n",
    "class Transformer(tf.keras.Model):\n",
    "  # 初始參數包含 Encoder & Decoder 都需要超參數以及中英字典數目\n",
    "  def __init__(self, num_layers, d_model, num_heads, dff, input_vocab_size, \n",
    "               target_vocab_size, rate=0.1):\n",
    "    super(Transformer, self).__init__()\n",
    "\n",
    "    self.encoder = Encoder(num_layers, d_model, num_heads, dff, \n",
    "                           input_vocab_size, rate)\n",
    "\n",
    "    self.decoder = Decoder(num_layers, d_model, num_heads, dff, \n",
    "                           target_vocab_size, rate)\n",
    "    # 這個 FFN 輸出跟中文字典一樣大的 logits 數，等通過 softmax 就代表每個中文字的出現機率\n",
    "    self.final_layer = tf.keras.layers.Dense(target_vocab_size)\n",
    "  \n",
    "  # enc_padding_mask 跟 dec_padding_mask 都是英文序列的 padding mask，\n",
    "  # 只是一個給 Encoder layer 的 MHA 用，一個是給 Decoder layer 的 MHA 2 使用\n",
    "  def call(self, inp, tar, training, enc_padding_mask, \n",
    "           combined_mask, dec_padding_mask):\n",
    "\n",
    "    enc_output = self.encoder(inp, training, enc_padding_mask)  # (batch_size, inp_seq_len, d_model)\n",
    "    \n",
    "    # dec_output.shape == (batch_size, tar_seq_len, d_model)\n",
    "    dec_output, attention_weights = self.decoder(\n",
    "        tar, enc_output, training, combined_mask, dec_padding_mask)\n",
    "    \n",
    "    # 將 Decoder 輸出通過最後一個 linear layer\n",
    "    final_output = self.final_layer(dec_output)  # (batch_size, tar_seq_len, target_vocab_size)\n",
    "    \n",
    "    return final_output, attention_weights"
   ]
  },
  {
   "cell_type": "code",
   "execution_count": 50,
   "id": "43fb631a-7641-4334-b306-d41f17d00205",
   "metadata": {},
   "outputs": [
    {
     "name": "stdout",
     "output_type": "stream",
     "text": [
      "tar: tf.Tensor(\n",
      "[[4800   10  237   82   27    3 4801    0    0    0]\n",
      " [4800  166  490  406  193   14    7  552    3 4801]], shape=(2, 10), dtype=int64)\n",
      "--------------------\n",
      "tar_inp: tf.Tensor(\n",
      "[[4800   10  237   82   27    3 4801    0    0]\n",
      " [4800  166  490  406  193   14    7  552    3]], shape=(2, 9), dtype=int64)\n",
      "--------------------\n",
      "tar_real: tf.Tensor(\n",
      "[[  10  237   82   27    3 4801    0    0    0]\n",
      " [ 166  490  406  193   14    7  552    3 4801]], shape=(2, 9), dtype=int64)\n",
      "--------------------\n",
      "predictions: tf.Tensor(\n",
      "[[[ 0.01066641 -0.04772566  0.02575547 ... -0.02138724  0.04634662\n",
      "    0.06482837]\n",
      "  [-0.02164257 -0.0640014   0.03100749 ... -0.02969712  0.00975495\n",
      "    0.0386771 ]\n",
      "  [-0.03138593 -0.06042983  0.0261397  ... -0.03241279  0.00383915\n",
      "    0.03768303]\n",
      "  ...\n",
      "  [-0.01551073 -0.07256271  0.03379937 ... -0.03785068  0.03570718\n",
      "    0.07323292]\n",
      "  [-0.02027709 -0.06704856  0.03275209 ... -0.03097381  0.01355176\n",
      "    0.04348082]\n",
      "  [-0.03019787 -0.0598952   0.02630353 ... -0.03151277  0.00353196\n",
      "    0.03622226]]\n",
      "\n",
      " [[ 0.01031843 -0.05561943  0.03053877 ... -0.0235363   0.04719391\n",
      "    0.06708886]\n",
      "  [-0.02168782 -0.06118323  0.02973994 ... -0.02802106  0.00688541\n",
      "    0.03412448]\n",
      "  [-0.03161611 -0.05892419  0.02537543 ... -0.03166905  0.00232061\n",
      "    0.03549113]\n",
      "  ...\n",
      "  [-0.01764281 -0.07474266  0.03549539 ... -0.03734677  0.03006244\n",
      "    0.06669401]\n",
      "  [-0.0203561  -0.06434516  0.03158106 ... -0.02927078  0.01050024\n",
      "    0.03869319]\n",
      "  [-0.02920166 -0.05968479  0.02654834 ... -0.03086475  0.00357382\n",
      "    0.03536407]]], shape=(2, 9, 4802), dtype=float32)\n"
     ]
    }
   ],
   "source": [
    "# 超參數\n",
    "num_layers = 1\n",
    "d_model = 4\n",
    "num_heads = 2\n",
    "dff = 8\n",
    "\n",
    "# + 2 是為了 <start> & <end> token\n",
    "input_vocab_size = subword_encoder_en.vocab_size + 2\n",
    "output_vocab_size = subword_encoder_zh.vocab_size + 2\n",
    "\n",
    "# 重點中的重點。訓練時用前一個字來預測下一個中文字\n",
    "tar_inp = tar[:, :-1]\n",
    "tar_real = tar[:, 1:]\n",
    "\n",
    "# 來源 / 目標語言用的遮罩。注意 `comined_mask` 已經將目標語言的兩種遮罩合而為一\n",
    "inp_padding_mask = create_padding_mask(inp)\n",
    "tar_padding_mask = create_padding_mask(tar_inp)\n",
    "look_ahead_mask = create_look_ahead_mask(tar_inp.shape[1])\n",
    "combined_mask = tf.math.maximum(tar_padding_mask, look_ahead_mask)\n",
    "\n",
    "# 初始化我們的第一個 transformer\n",
    "transformer = Transformer(num_layers, d_model, num_heads, dff, \n",
    "                          input_vocab_size, output_vocab_size)\n",
    "\n",
    "# 將英文、中文序列丟入取得 Transformer 預測下個中文字的結果\n",
    "predictions, attn_weights = transformer(inp, tar_inp, False, inp_padding_mask, \n",
    "                                        combined_mask, inp_padding_mask)\n",
    "\n",
    "print(\"tar:\", tar)\n",
    "print(\"-\" * 20)\n",
    "print(\"tar_inp:\", tar_inp)\n",
    "print(\"-\" * 20)\n",
    "print(\"tar_real:\", tar_real)\n",
    "print(\"-\" * 20)\n",
    "print(\"predictions:\", predictions)"
   ]
  },
  {
   "cell_type": "code",
   "execution_count": 51,
   "id": "f80744f9-4e65-4a09-bf7a-f1e9f554db1a",
   "metadata": {},
   "outputs": [
    {
     "data": {
      "text/plain": [
       "<tf.Tensor: shape=(3,), dtype=float32, numpy=array([0.31326175, 0.31326175, 1.3132617 ], dtype=float32)>"
      ]
     },
     "execution_count": 51,
     "metadata": {},
     "output_type": "execute_result"
    }
   ],
   "source": [
    "loss_object = tf.keras.losses.SparseCategoricalCrossentropy(from_logits=True, reduction='none')\n",
    "# 假設我們要解的是一個 binary classifcation， 0 跟 1 個代表一個 label\n",
    "real = tf.constant([1, 1, 0], shape=(1, 3), dtype=tf.float32)\n",
    "pred = tf.constant([[0, 1], [0, 1], [0, 1]], dtype=tf.float32)\n",
    "loss_object(real, pred)"
   ]
  },
  {
   "cell_type": "code",
   "execution_count": 52,
   "id": "072d3129-4daf-4207-8933-291b18c9fd3b",
   "metadata": {},
   "outputs": [
    {
     "name": "stdout",
     "output_type": "stream",
     "text": [
      "predictions: tf.Tensor(\n",
      "[[[ 0.01066641 -0.04772566  0.02575547 ... -0.02138724  0.04634662\n",
      "    0.06482837]\n",
      "  [-0.02164257 -0.0640014   0.03100749 ... -0.02969712  0.00975495\n",
      "    0.0386771 ]\n",
      "  [-0.03138593 -0.06042983  0.0261397  ... -0.03241279  0.00383915\n",
      "    0.03768303]\n",
      "  ...\n",
      "  [-0.01551073 -0.07256271  0.03379937 ... -0.03785068  0.03570718\n",
      "    0.07323292]\n",
      "  [-0.02027709 -0.06704856  0.03275209 ... -0.03097381  0.01355176\n",
      "    0.04348082]\n",
      "  [-0.03019787 -0.0598952   0.02630353 ... -0.03151277  0.00353196\n",
      "    0.03622226]]\n",
      "\n",
      " [[ 0.01031843 -0.05561943  0.03053877 ... -0.0235363   0.04719391\n",
      "    0.06708886]\n",
      "  [-0.02168782 -0.06118323  0.02973994 ... -0.02802106  0.00688541\n",
      "    0.03412448]\n",
      "  [-0.03161611 -0.05892419  0.02537543 ... -0.03166905  0.00232061\n",
      "    0.03549113]\n",
      "  ...\n",
      "  [-0.01764281 -0.07474266  0.03549539 ... -0.03734677  0.03006244\n",
      "    0.06669401]\n",
      "  [-0.0203561  -0.06434516  0.03158106 ... -0.02927078  0.01050024\n",
      "    0.03869319]\n",
      "  [-0.02920166 -0.05968479  0.02654834 ... -0.03086475  0.00357382\n",
      "    0.03536407]]], shape=(2, 9, 4802), dtype=float32)\n",
      "--------------------\n",
      "tf.Tensor(\n",
      "[[ 6.077327   -0.94288474 -1.8125086  -1.684762   -0.989596    1.6372038\n",
      "   3.2227035  -0.41072738 -1.8418508 ]\n",
      " [ 5.8939924  -1.3282249  -2.0122025  -1.7795858  -1.137281    2.0548892\n",
      "   2.1440806  -0.83266175 -1.831832  ]], shape=(2, 9), dtype=float32)\n"
     ]
    }
   ],
   "source": [
    "print(\"predictions:\", predictions)\n",
    "print(\"-\" * 20)\n",
    "print(tf.reduce_sum(predictions, axis=-1))"
   ]
  },
  {
   "cell_type": "code",
   "execution_count": 53,
   "id": "ff425ab2-1893-48b7-bcda-656d0d2ba809",
   "metadata": {},
   "outputs": [],
   "source": [
    "def loss_function(real, pred):\n",
    "  # 這次的 mask 將序列中不等於 0 的位置視為 1，其餘為 0 \n",
    "  mask = tf.math.logical_not(tf.math.equal(real, 0))\n",
    "  # 照樣計算所有位置的 cross entropy 但不加總\n",
    "  loss_ = loss_object(real, pred)\n",
    "  mask = tf.cast(mask, dtype=loss_.dtype)\n",
    "  loss_ *= mask  # 只計算非 <pad> 位置的損失 \n",
    "  \n",
    "  return tf.reduce_mean(loss_)"
   ]
  },
  {
   "cell_type": "code",
   "execution_count": 54,
   "id": "ff21fbc5-4e94-4f05-b946-687469ff8906",
   "metadata": {},
   "outputs": [],
   "source": [
    "train_loss = tf.keras.metrics.Mean(name='train_loss')\n",
    "train_accuracy = tf.keras.metrics.SparseCategoricalAccuracy(\n",
    "    name='train_accuracy')"
   ]
  },
  {
   "cell_type": "code",
   "execution_count": 55,
   "id": "03424312-cab3-4485-85a3-0624beea3771",
   "metadata": {},
   "outputs": [
    {
     "name": "stdout",
     "output_type": "stream",
     "text": [
      "input_vocab_size: 8273\n",
      "target_vocab_size: 4802\n"
     ]
    }
   ],
   "source": [
    "num_layers = 4 \n",
    "d_model = 128\n",
    "dff = 512\n",
    "num_heads = 8\n",
    "\n",
    "input_vocab_size = subword_encoder_en.vocab_size + 2\n",
    "target_vocab_size = subword_encoder_zh.vocab_size + 2\n",
    "dropout_rate = 0.1  # 預設值\n",
    "\n",
    "print(\"input_vocab_size:\", input_vocab_size)\n",
    "print(\"target_vocab_size:\", target_vocab_size)"
   ]
  },
  {
   "cell_type": "code",
   "execution_count": 56,
   "id": "0021e436-f1b3-48d4-8dae-0fbe00513260",
   "metadata": {},
   "outputs": [],
   "source": [
    "class CustomSchedule(tf.keras.optimizers.schedules.LearningRateSchedule):\n",
    "  def __init__(self, d_model, warmup_steps=4000):\n",
    "    super().__init__()\n",
    "\n",
    "    self.d_model = d_model\n",
    "    self.d_model = tf.cast(self.d_model, tf.float32)\n",
    "\n",
    "    self.warmup_steps = warmup_steps\n",
    "\n",
    "  def __call__(self, step):\n",
    "    step = tf.cast(step, dtype=tf.float32)\n",
    "    arg1 = tf.math.rsqrt(step)\n",
    "    arg2 = step * (self.warmup_steps ** -1.5)\n",
    "\n",
    "    return tf.math.rsqrt(self.d_model) * tf.math.minimum(arg1, arg2)\n",
    "\n",
    "  \n",
    "# 將客製化 learning rate schdeule 丟入 Adam opt.\n",
    "# Adam opt. 的參數都跟論文相同\n",
    "learning_rate = CustomSchedule(d_model)\n",
    "optimizer = tf.keras.optimizers.Adam(learning_rate, beta_1=0.9, beta_2=0.98, \n",
    "                                     epsilon=1e-9)"
   ]
  },
  {
   "cell_type": "code",
   "execution_count": 57,
   "id": "1e07d0fb-021c-4f1f-9de7-8132baa9d2cd",
   "metadata": {},
   "outputs": [
    {
     "data": {
      "text/plain": [
       "Text(0.5, 0, 'Train Step')"
      ]
     },
     "execution_count": 57,
     "metadata": {},
     "output_type": "execute_result"
    },
    {
     "data": {
      "image/png": "[encoded data removed]",
      "text/plain": [
       "<Figure size 640x480 with 1 Axes>"
      ]
     },
     "metadata": {},
     "output_type": "display_data"
    }
   ],
   "source": [
    "d_models = [128, 256, 512]\n",
    "warmup_steps = [1000 * i for i in range(1, 4)]\n",
    "\n",
    "schedules = []\n",
    "labels = []\n",
    "colors = [\"blue\", \"red\", \"black\"]\n",
    "for d in d_models:\n",
    "  schedules += [CustomSchedule(d, s) for s in warmup_steps]\n",
    "  labels += [f\"d_model: {d}, warm: {s}\" for s in warmup_steps]\n",
    "\n",
    "for i, (schedule, label) in enumerate(zip(schedules, labels)):\n",
    "  plt.plot(schedule(tf.range(10000, dtype=tf.float32)), \n",
    "           label=label, color=colors[i // 3])\n",
    "\n",
    "plt.legend()\n",
    "\n",
    "plt.ylabel(\"Learning Rate\")\n",
    "plt.xlabel(\"Train Step\")"
   ]
  },
  {
   "cell_type": "code",
   "execution_count": 58,
   "id": "f93161a4-96a4-482e-8e8e-853f3a435500",
   "metadata": {},
   "outputs": [
    {
     "name": "stdout",
     "output_type": "stream",
     "text": [
      "這個 Transformer 有 4 層 Encoder / Decoder layers\n",
      "d_model: 128\n",
      "num_heads: 8\n",
      "dff: 512\n",
      "input_vocab_size: 8273\n",
      "target_vocab_size: 4802\n",
      "dropout_rate: 0.1\n",
      "\n",
      "\n"
     ]
    }
   ],
   "source": [
    "transformer = Transformer(num_layers, d_model, num_heads, dff,\n",
    "                          input_vocab_size, target_vocab_size, dropout_rate)\n",
    "\n",
    "print(f\"\"\"這個 Transformer 有 {num_layers} 層 Encoder / Decoder layers\n",
    "d_model: {d_model}\n",
    "num_heads: {num_heads}\n",
    "dff: {dff}\n",
    "input_vocab_size: {input_vocab_size}\n",
    "target_vocab_size: {target_vocab_size}\n",
    "dropout_rate: {dropout_rate}\n",
    "\n",
    "\"\"\")"
   ]
  },
  {
   "cell_type": "code",
   "execution_count": 59,
   "id": "0b649f02-cb1e-43a4-9025-4e8e8b17c24b",
   "metadata": {},
   "outputs": [],
   "source": [
    "# 為 Transformer 的 Encoder / Decoder 準備遮罩\n",
    "def create_masks(inp, tar):\n",
    "  # 英文句子的 padding mask，要交給 Encoder layer 自注意力機制用的\n",
    "  enc_padding_mask = create_padding_mask(inp)\n",
    "  \n",
    "  # 同樣也是英文句子的 padding mask，但是是要交給 Decoder layer 的 MHA 2 \n",
    "  # 關注 Encoder 輸出序列用的\n",
    "  dec_padding_mask = create_padding_mask(inp)\n",
    "  \n",
    "  # Decoder layer 的 MHA1 在做自注意力機制用的\n",
    "  # `combined_mask` 是中文句子的 padding mask 跟 look ahead mask 的疊加\n",
    "  look_ahead_mask = create_look_ahead_mask(tf.shape(tar)[1])\n",
    "  dec_target_padding_mask = create_padding_mask(tar)\n",
    "  combined_mask = tf.maximum(dec_target_padding_mask, look_ahead_mask)\n",
    "  \n",
    "  return enc_padding_mask, combined_mask, dec_padding_mask"
   ]
  },
  {
   "cell_type": "code",
   "execution_count": 60,
   "id": "77443fb0-ee45-4050-9ded-e8f96037106c",
   "metadata": {},
   "outputs": [],
   "source": [
    "@tf.function  # 讓 TensorFlow 幫我們將 eager code 優化並加快運算\n",
    "def train_step(inp, tar):\n",
    "  # 前面說過的，用去尾的原始序列去預測下一個字的序列\n",
    "  tar_inp = tar[:, :-1]\n",
    "  tar_real = tar[:, 1:]\n",
    "  \n",
    "  # 建立 3 個遮罩\n",
    "  enc_padding_mask, combined_mask, dec_padding_mask = create_masks(inp, tar_inp)\n",
    "  \n",
    "  # 紀錄 Transformer 的所有運算過程以方便之後做梯度下降\n",
    "  with tf.GradientTape() as tape:\n",
    "    # 注意是丟入 `tar_inp` 而非 `tar`。記得將 `training` 參數設定為 True\n",
    "    predictions, _ = transformer(inp, tar_inp, \n",
    "                                 True, \n",
    "                                 enc_padding_mask, \n",
    "                                 combined_mask, \n",
    "                                 dec_padding_mask)\n",
    "    # 跟影片中顯示的相同，計算左移一個字的序列跟模型預測分佈之間的差異，當作 loss\n",
    "    loss = loss_function(tar_real, predictions)\n",
    "\n",
    "  # 取出梯度並呼叫前面定義的 Adam optimizer 幫我們更新 Transformer 裡頭可訓練的參數\n",
    "  gradients = tape.gradient(loss, transformer.trainable_variables)    \n",
    "  optimizer.apply_gradients(zip(gradients, transformer.trainable_variables))\n",
    "  \n",
    "  # 將 loss 以及訓練 acc 記錄到 TensorBoard 上，非必要\n",
    "  train_loss(loss)\n",
    "  train_accuracy(tar_real, predictions)"
   ]
  },
  {
   "cell_type": "code",
   "execution_count": 61,
   "id": "83d246be-158b-44fa-b2c1-2155785e49f0",
   "metadata": {},
   "outputs": [
    {
     "name": "stdout",
     "output_type": "stream",
     "text": [
      "checkpoint_path= nmt/checkpoints/4layers_128d_8heads_512dff\n",
      "log_dir= nmt/logs/4layers_128d_8heads_512dff\n",
      "已讀取最新的 checkpoint，模型已訓練 30 epochs。\n"
     ]
    }
   ],
   "source": [
    "# 方便比較不同實驗/ 不同超參數設定的結果\n",
    "run_id = f\"{num_layers}layers_{d_model}d_{num_heads}heads_{dff}dff\"\n",
    "checkpoint_path = os.path.join(checkpoint_dir, run_id)\n",
    "print(\"checkpoint_path=\",checkpoint_path)\n",
    "log_dir = os.path.join(log_dir, run_id)\n",
    "print(\"log_dir=\",log_dir)\n",
    "\n",
    "# tf.train.Checkpoint 可以幫我們把想要存下來的東西整合起來，方便儲存與讀取\n",
    "# 一般來說你會想存下模型以及 optimizer 的狀態\n",
    "ckpt = tf.train.Checkpoint(transformer=transformer,\n",
    "                           optimizer=optimizer)\n",
    "\n",
    "# ckpt_manager 會去 checkpoint_path 看有沒有符合 ckpt 裡頭定義的東西\n",
    "# 存檔的時候只保留最近 5 次 checkpoints，其他自動刪除\n",
    "ckpt_manager = tf.train.CheckpointManager(ckpt, checkpoint_path, max_to_keep=5)\n",
    "\n",
    "# 如果在 checkpoint 路徑上有發現檔案就讀進來\n",
    "if ckpt_manager.latest_checkpoint:\n",
    "  ckpt.restore(ckpt_manager.latest_checkpoint)\n",
    "  \n",
    "  # 用來確認之前訓練多少 epochs 了\n",
    "  last_epoch = int(ckpt_manager.latest_checkpoint.split(\"-\")[-1])\n",
    "  print(f'已讀取最新的 checkpoint，模型已訓練 {last_epoch} epochs。')\n",
    "else:\n",
    "  last_epoch = 0\n",
    "  print(\"沒找到 checkpoint，從頭訓練。\")"
   ]
  },
  {
   "cell_type": "code",
   "execution_count": 62,
   "id": "b44343d5-d35d-4382-b359-68be2016f001",
   "metadata": {},
   "outputs": [
    {
     "name": "stdout",
     "output_type": "stream",
     "text": [
      "此超參數組合的 Transformer 已經訓練 30 epochs。\n"
     ]
    }
   ],
   "source": [
    "# 定義我們要看幾遍數據集\n",
    "EPOCHS = 30\n",
    "print(f\"此超參數組合的 Transformer 已經訓練 {last_epoch} epochs。\")\n",
    "\n",
    "# 用來寫資訊到 TensorBoard，非必要但十分推薦\n",
    "summary_writer = tf.summary.create_file_writer(log_dir)\n",
    "\n",
    "# 比對設定的 `EPOCHS` 以及已訓練的 `last_epoch` 來決定還要訓練多少 epochs\n",
    "for epoch in range(last_epoch, EPOCHS):\n",
    "  print(f\"剩餘 epochs：{max(0, EPOCHS - epoch )}\")\n",
    "  start = time.time()\n",
    "  \n",
    "  # 重置紀錄 TensorBoard 的 metrics\n",
    "  train_loss.reset_states()\n",
    "  train_accuracy.reset_states()\n",
    "  \n",
    "  # 一個 epoch 就是把我們定義的訓練資料集一個一個 batch 拿出來處理，直到看完整個數據集 \n",
    "  for (step_idx, (inp, tar)) in enumerate(train_dataset):\n",
    "    \n",
    "    # 每次 step 就是將數據丟入 Transformer，讓它生預測結果並計算梯度最小化 loss\n",
    "    train_step(inp, tar)  \n",
    "\n",
    "  # 每個 epoch 完成就存一次檔    \n",
    "  if (epoch + 1) % 1 == 0:\n",
    "    ckpt_save_path = ckpt_manager.save()\n",
    "    print ('Saving checkpoint for epoch {} at {}'.format(epoch+1,\n",
    "                                                         ckpt_save_path))\n",
    "    \n",
    "  # 將 loss 以及 accuracy 寫到 TensorBoard 上\n",
    "  with summary_writer.as_default():\n",
    "    tf.summary.scalar(\"train_loss\", train_loss.result(), step=epoch + 1)\n",
    "    tf.summary.scalar(\"train_acc\", train_accuracy.result(), step=epoch + 1)\n",
    "  \n",
    "  print('Epoch {} Loss {:.4f} Accuracy {:.4f}'.format(epoch + 1, \n",
    "                                                train_loss.result(), \n",
    "                                                train_accuracy.result()))\n",
    "  print('Time taken for 1 epoch: {} secs\\n'.format(time.time() - start))\n"
   ]
  },
  {
   "cell_type": "code",
   "execution_count": 63,
   "id": "d2beaa52-e7ea-4911-8c2b-98810f91a318",
   "metadata": {},
   "outputs": [
    {
     "data": {
      "text/plain": [
       "ERROR: Failed to launch TensorBoard (exited with 1).\n",
       "Contents of stderr:\n",
       "NOTE: Using experimental fast data loading logic. To disable, pass\n",
       "    \"--load_fast=false\" and report issues on GitHub. More details:\n",
       "    https://github.com/tensorflow/tensorboard/issues/4784\n",
       "\n",
       "Traceback (most recent call last):\n",
       "  File \"/usr/local/bin/tensorboard\", line 8, in <module>\n",
       "    sys.exit(run_main())\n",
       "  File \"/usr/local/lib/python3.8/dist-packages/tensorboard/main.py\", line 46, in run_main\n",
       "    app.run(tensorboard.main, flags_parser=tensorboard.configure)\n",
       "  File \"/usr/local/lib/python3.8/dist-packages/absl/app.py\", line 308, in run\n",
       "    _run_main(main, args)\n",
       "  File \"/usr/local/lib/python3.8/dist-packages/absl/app.py\", line 254, in _run_main\n",
       "    sys.exit(main(argv))\n",
       "  File \"/usr/local/lib/python3.8/dist-packages/tensorboard/program.py\", line 276, in main\n",
       "    return runner(self.flags) or 0\n",
       "  File \"/usr/local/lib/python3.8/dist-packages/tensorboard/program.py\", line 292, in _run_serve_subcommand\n",
       "    server = self._make_server()\n",
       "  File \"/usr/local/lib/python3.8/dist-packages/tensorboard/program.py\", line 467, in _make_server\n",
       "    app = application.TensorBoardWSGIApp(\n",
       "  File \"/usr/local/lib/python3.8/dist-packages/tensorboard/backend/application.py\", line 139, in TensorBoardWSGIApp\n",
       "    return TensorBoardWSGI(\n",
       "  File \"/usr/local/lib/python3.8/dist-packages/tensorboard/backend/application.py\", line 252, in __init__\n",
       "    raise ValueError(\n",
       "ValueError: Duplicate plugins for name projector"
      ]
     },
     "metadata": {},
     "output_type": "display_data"
    }
   ],
   "source": [
    "%reload_ext tensorboard\n",
    "%tensorboard --logdir nmt/logs/4layers_128d_8heads_512dff"
   ]
  },
  {
   "cell_type": "code",
   "execution_count": 64,
   "id": "a4387973-771f-42c9-b9fb-7a44cc74ef3d",
   "metadata": {},
   "outputs": [],
   "source": [
    "# 給定一個英文句子，輸出預測的中文索引數字序列以及注意權重 dict\n",
    "def evaluate(inp_sentence):\n",
    "  \n",
    "  # 準備英文句子前後會加上的 <start>, <end>\n",
    "  start_token = [subword_encoder_en.vocab_size]\n",
    "  end_token = [subword_encoder_en.vocab_size + 1]\n",
    "  \n",
    "  # inp_sentence 是字串，我們用 Subword Tokenizer 將其變成子詞的索引序列\n",
    "  # 並在前後加上 BOS / EOS\n",
    "  inp_sentence = start_token + subword_encoder_en.encode(inp_sentence) + end_token\n",
    "  encoder_input = tf.expand_dims(inp_sentence, 0)\n",
    "  \n",
    "  # 跟我們在影片裡看到的一樣，Decoder 在第一個時間點吃進去的輸入\n",
    "  # 是一個只包含一個中文 <start> token 的序列\n",
    "  decoder_input = [subword_encoder_zh.vocab_size]\n",
    "  output = tf.expand_dims(decoder_input, 0)  # 增加 batch 維度\n",
    "  \n",
    "  # auto-regressive，一次生成一個中文字並將預測加到輸入再度餵進 Transformer\n",
    "  for i in range(MAX_LENGTH):\n",
    "    # 每多一個生成的字就得產生新的遮罩\n",
    "    enc_padding_mask, combined_mask, dec_padding_mask = create_masks(\n",
    "        encoder_input, output)\n",
    "  \n",
    "    # predictions.shape == (batch_size, seq_len, vocab_size)\n",
    "    predictions, attention_weights = transformer(encoder_input, \n",
    "                                                 output,\n",
    "                                                 False,\n",
    "                                                 enc_padding_mask,\n",
    "                                                 combined_mask,\n",
    "                                                 dec_padding_mask)\n",
    "    \n",
    "\n",
    "    # 將序列中最後一個 distribution 取出，並將裡頭值最大的當作模型最新的預測字\n",
    "    predictions = predictions[: , -1:, :]  # (batch_size, 1, vocab_size)\n",
    "\n",
    "    predicted_id = tf.cast(tf.argmax(predictions, axis=-1), tf.int32)\n",
    "    \n",
    "    # 遇到 <end> token 就停止回傳，代表模型已經產生完結果\n",
    "    if tf.equal(predicted_id, subword_encoder_zh.vocab_size + 1):\n",
    "      return tf.squeeze(output, axis=0), attention_weights\n",
    "    \n",
    "    #將 Transformer 新預測的中文索引加到輸出序列中，讓 Decoder 可以在產生\n",
    "    # 下個中文字的時候關注到最新的 `predicted_id`\n",
    "    output = tf.concat([output, predicted_id], axis=-1)\n",
    "\n",
    "  # 將 batch 的維度去掉後回傳預測的中文索引序列\n",
    "  return tf.squeeze(output, axis=0), attention_weights"
   ]
  },
  {
   "cell_type": "code",
   "execution_count": 65,
   "id": "fda1a467-3346-4b15-9637-507a6a5637b7",
   "metadata": {},
   "outputs": [
    {
     "name": "stdout",
     "output_type": "stream",
     "text": [
      "sentence: Do you want some music?\n",
      "--------------------\n",
      "predicted_seq: tf.Tensor([4800  625  300   27    7   66 1170  851  905  348], shape=(10,), dtype=int32)\n",
      "--------------------\n",
      "predicted_sentence: 你想要一些音乐吗？\n"
     ]
    }
   ],
   "source": [
    "# 要被翻譯的英文句子\n",
    "sentence = \"Do you want some music?\"\n",
    "\n",
    "# 取得預測的中文索引序列\n",
    "predicted_seq, _ = evaluate(sentence)\n",
    "\n",
    "# 過濾掉 <start> & <end> tokens 並用中文的 subword tokenizer 幫我們將索引序列還原回中文句子\n",
    "target_vocab_size = subword_encoder_zh.vocab_size\n",
    "predicted_seq_without_bos_eos = [idx for idx in predicted_seq if idx < target_vocab_size]\n",
    "predicted_sentence = subword_encoder_zh.decode(predicted_seq_without_bos_eos)\n",
    "\n",
    "print(\"sentence:\", sentence)\n",
    "print(\"-\" * 20)\n",
    "print(\"predicted_seq:\", predicted_seq)\n",
    "print(\"-\" * 20)\n",
    "print(\"predicted_sentence:\", predicted_sentence)"
   ]
  },
  {
   "cell_type": "code",
   "execution_count": 66,
   "id": "a2913b4f-84be-4266-a40d-cb9289e961fe",
   "metadata": {},
   "outputs": [
    {
     "name": "stdout",
     "output_type": "stream",
     "text": [
      "Defaulting to user installation because normal site-packages is not writeable\n",
      "Requirement already satisfied: opencc-python-reimplemented in /home/yoda/.local/lib/python3.8/site-packages (0.1.7)\n"
     ]
    }
   ],
   "source": [
    "!pip install opencc-python-reimplemented"
   ]
  },
  {
   "cell_type": "code",
   "execution_count": 67,
   "id": "db325f43-f141-4047-bb39-b09e4d0f8901",
   "metadata": {},
   "outputs": [],
   "source": [
    "import opencc"
   ]
  },
  {
   "cell_type": "code",
   "execution_count": 68,
   "id": "53065b60-c3e7-44ec-a93d-c7d631148c71",
   "metadata": {},
   "outputs": [],
   "source": [
    "from opencc import OpenCC\n",
    "cc = OpenCC('s2tw')"
   ]
  },
  {
   "cell_type": "code",
   "execution_count": 80,
   "id": "a5d1c37b-7d4f-47e4-8cd3-08af0d106fbc",
   "metadata": {},
   "outputs": [
    {
     "name": "stdout",
     "output_type": "stream",
     "text": [
      "sentence: Do yo have enough money for study abroad?\n",
      "--------------------\n",
      "predicted_seq: tf.Tensor(\n",
      "[4800   10    6  443   11  431  320    1   65  120   21  320    5  499\n",
      "  133  459  462  348], shape=(18,), dtype=int32)\n",
      "--------------------\n",
      "predicted_sentence: 這是否有足夠的資金能夠在海外研究？\n"
     ]
    }
   ],
   "source": [
    "# 要被翻譯的英文句子\n",
    "sentence = \"Do yo have enough money for study abroad?\"\n",
    "\n",
    "# 取得預測的中文索引序列\n",
    "predicted_seq, _ = evaluate(sentence)\n",
    "\n",
    "# 過濾掉 <start> & <end> tokens 並用中文的 subword tokenizer 幫我們將索引序列還原回中文句子\n",
    "target_vocab_size = subword_encoder_zh.vocab_size\n",
    "predicted_seq_without_bos_eos = [idx for idx in predicted_seq if idx < target_vocab_size]\n",
    "predicted_sentence = subword_encoder_zh.decode(predicted_seq_without_bos_eos)\n",
    "\n",
    "print(\"sentence:\", sentence)\n",
    "print(\"-\" * 20)\n",
    "print(\"predicted_seq:\", predicted_seq)\n",
    "print(\"-\" * 20)\n",
    "print(\"predicted_sentence:\", cc.convert(predicted_sentence))"
   ]
  },
  {
   "cell_type": "code",
   "execution_count": null,
   "id": "5e9e55da-a3ed-43e8-bd10-ce9711c29291",
   "metadata": {},
   "outputs": [],
   "source": []
  }
 ],
 "metadata": {
  "kernelspec": {
   "display_name": "Python 3 (ipykernel)",
   "language": "python",
   "name": "python3"
  },
  "language_info": {
   "codemirror_mode": {
    "name": "ipython",
    "version": 3
   },
   "file_extension": ".py",
   "mimetype": "text/x-python",
   "name": "python",
   "nbconvert_exporter": "python",
   "pygments_lexer": "ipython3",
   "version": "3.8.10"
  }
 },
 "nbformat": 4,
 "nbformat_minor": 5
}
